{
  "cells": [
    {
      "cell_type": "markdown",
      "metadata": {
        "id": "view-in-github",
        "colab_type": "text"
      },
      "source": [
        "<a href=\"https://colab.research.google.com/github/OmarRC123/Lenguaje_de_programacion-python/blob/main/Actividad6.ipynb\" target=\"_parent\"><img src=\"https://colab.research.google.com/assets/colab-badge.svg\" alt=\"Open In Colab\"/></a>"
      ]
    },
    {
      "cell_type": "markdown",
      "metadata": {
        "id": "eMJl4vGUPQxx"
      },
      "source": [
        "\n",
        "\n",
        "#Actividad 6\n",
        "\n",
        "Nombre: Robles Carrasco Omar       \n",
        "\n",
        "Matricula: 372304\n",
        "\n",
        "Grupo: 432\n",
        "\n",
        "26/09/2023"
      ]
    },
    {
      "cell_type": "code",
      "execution_count": null,
      "metadata": {
        "id": "TTh4Ou8BoKU2"
      },
      "outputs": [],
      "source": [
        "import random\n",
        "from IPython.display import clear_output"
      ]
    },
    {
      "cell_type": "code",
      "source": [
        "def validacion_de_num(ri,rf,msge=\" DAME UN NUMERO ENTRE \",msgError1=\"ERROR EN RANGO\",msgError2=\"ERROR DE CAPTURA\"):\n",
        "  while True:\n",
        "    try:\n",
        "      num = int(input(f\"{msge} {ri} , {rf} : \"))\n",
        "    except:\n",
        "      print (msgError2)\n",
        "      continue\n",
        "    if num < ri or num > rf:\n",
        "      print (msgError1)\n",
        "      continue\n",
        "    return num"
      ],
      "metadata": {
        "id": "QnLe0y4tuFvq"
      },
      "execution_count": null,
      "outputs": []
    },
    {
      "cell_type": "markdown",
      "metadata": {
        "id": "ZwVD77BIPSi5"
      },
      "source": [
        "1.- FUNCIÓN QUE LEA n CANTIDAD DE NÚMEROS HASTA QUE EL USUARIO LO DESEE, DESPLEGAR LA SUMA DE LOS NÚMEROS, MEDIA Y VALOR DE LOS NÚMEROS MAYORES Y MENORES."
      ]
    },
    {
      "cell_type": "code",
      "execution_count": null,
      "metadata": {
        "id": "qiHyrCFePPub"
      },
      "outputs": [],
      "source": [
        "def lee_num():\n",
        "    print(\"PRESIONA\")\n",
        "    print(\"1- Continuar\")\n",
        "    print(\"0- Salir\")\n",
        "    suma=0\n",
        "    fuera = 1\n",
        "    i=0\n",
        "    try:\n",
        "        while(fuera):\n",
        "            num = int(input(\"Ingresa el numero: \"))\n",
        "            suma += num\n",
        "            i+=1\n",
        "            res = int(input(\"Quieres terminar? \"))\n",
        "            if(res == 0):\n",
        "                fuera = 0\n",
        "    except:\n",
        "        print(\"fallo\")\n",
        "    else:\n",
        "        print(f\"La suma es: {suma}\")\n",
        "        print(f\"La media es: {suma/i}\")\n"
      ]
    },
    {
      "cell_type": "markdown",
      "metadata": {
        "id": "hf99kgGjTwiU"
      },
      "source": [
        "2.- FUNCIÓN QUE GENERE 15 NÚMEROS IMPARES ENTRE 10 Y 60 o MÁXIMO DE 25 NÚMEROS. DESPLEGAR LA MEDIA DE LOS PARES Y MEDIA DE IMPARES."
      ]
    },
    {
      "cell_type": "code",
      "execution_count": null,
      "metadata": {
        "id": "YgbBBWKHICVI"
      },
      "outputs": [],
      "source": [
        "def generador_num():\n",
        "    suma_pares = 0\n",
        "    suma_impares = 0\n",
        "    par = 0\n",
        "    impar = 0\n",
        "    try:\n",
        "        for i in range(25):\n",
        "            num = random.randint(10,60)\n",
        "            if num%2 == 0:\n",
        "                suma_pares += num\n",
        "                par += 1\n",
        "            else:\n",
        "                suma_impares += num\n",
        "                impar += 1\n",
        "                if impar == 15:\n",
        "                    print(\"Se acompletaron los 15 impares\")\n",
        "                    break\n",
        "        else:\n",
        "            print(\"Se acompleto los 25 numeros maximos\")\n",
        "    except:\n",
        "        print(\"error\")\n",
        "    else:\n",
        "        print(f\"La media de impares es: {suma_impares/15}\")\n",
        "        print(f\"La media de impares es: {suma_pares/par}\")\n",
        "\n",
        "\n",
        "\n"
      ]
    },
    {
      "cell_type": "markdown",
      "metadata": {
        "id": "1Q0MqEMgYrl0"
      },
      "source": [
        "3.- FUNCIÓN QUE SIRVA PARA LEER UN RANGO DADO POR EL USUARIO. REPETIR ESTA ACCIÓN HASTA QUE EL USUARIO LO DESEE, DESPLEGAR CANTIDAD DE NUMEROS Y PROMEDIO DE LOS NUMEROS.."
      ]
    },
    {
      "cell_type": "code",
      "execution_count": null,
      "metadata": {
        "id": "9zqyYXacpUVW"
      },
      "outputs": [],
      "source": [
        "def validar():\n",
        "    try:\n",
        "        i=0\n",
        "        suma=0\n",
        "        while(1):\n",
        "            try:\n",
        "                ri = int(input(\"Ingrese el rango inicial \"))\n",
        "                rf = int(input(\"Ingrese el rango final\"))\n",
        "                validacion_de_num(ri,rf)\n",
        "\n",
        "            except ValueError as e:\n",
        "                print(\"Error:\",e)\n",
        "            else:\n",
        "                n = int(input(\"Ingresa el numero a guardar: \"))\n",
        "                suma += n\n",
        "                if n>=ri and n<=rf:\n",
        "                    print(\"El numero dado esta en el rango\")\n",
        "                else:\n",
        "                    print(\"El numero no esta en el rango\")\n",
        "                print(\"PRESIONA\")\n",
        "                print(\"1- Continuar\")\n",
        "                print(\"0- Salir\")\n",
        "                res = int(input(\"Deseas continuar? \"))\n",
        "                i+=1\n",
        "    except:\n",
        "        print(\"Ingresaste algo mal\")\n",
        "    else:\n",
        "        print(f\"El promedio es de{suma / i}\")\n",
        "\n"
      ]
    },
    {
      "cell_type": "markdown",
      "metadata": {
        "id": "21cGOSvkzmG_"
      },
      "source": [
        "4.- FUNCIÓN QUE RECIBA COMO PARÁMETRO LOS VALORES PARA EL ÁREA DE UN TRIANGULO Y RETORNE SU RESULTADO"
      ]
    },
    {
      "cell_type": "code",
      "execution_count": null,
      "metadata": {
        "id": "ZAOLydK3znLm"
      },
      "outputs": [],
      "source": [
        "def area(base,altura):\n",
        "    try:\n",
        "        if base == 0:\n",
        "            raise ValueError(\"No puede ser cero\")\n",
        "        if altura == 0:\n",
        "            raise ValueError(\"No puede ser cero\")\n",
        "    except ValueError as e:\n",
        "        print(\"Error\",e)\n",
        "    else:\n",
        "        area = (base*altura)/2\n",
        "        return area"
      ]
    },
    {
      "cell_type": "markdown",
      "metadata": {
        "id": "Px0TUD_X00QH"
      },
      "source": [
        "5.- FUNCION QUE SIRVA QUE SIRVA PARA EVALUAR EL PROMEDIO DE 3 CALIFICACIONES DADAS, SI EL USUARIO SU CALIFICACION ES APROBADA MANDAR MSGE QUE DIGA \"felicidades avanzas al siguiente semestre\", SI LA CALIFICACIONE ESTA REPROBADA EL MENSAGE \"repetir materia \" EL ALUMNO TENDRA UN MAXIMO DE CURSAR 3 VEcES LA MATERIA, SI LA REPRUEBA 3 VESES MANDAR MSGE \" lastima estas fuera de la UABC\"\n",
        "\n",
        "NOTA: VALIDAR EL PROGRAMA, DEBE MANDAR MSGES DE ERROR DE CALIFICACIONES Y NO PERMITIR LETRAS.  try: except:\n"
      ]
    },
    {
      "cell_type": "code",
      "execution_count": null,
      "metadata": {
        "id": "21FkudIE01xP"
      },
      "outputs": [],
      "source": [
        "def EvaluarUABC():\n",
        "    j=0\n",
        "    while(j<=3):\n",
        "        try:\n",
        "            prom = 0\n",
        "            for i in range(1,4):\n",
        "                cali = float(input(f\"Ingresa la calificacion {i}\"))\n",
        "                prom +=cali\n",
        "                if cali < 0 or cali > 100:\n",
        "                    raise ValueError(\"La calificacion no puede ser menos 0 o mas de 100\")\n",
        "\n",
        "        except ValueError as e:\n",
        "            print(\"Error: \",e)\n",
        "            print(\"Intentemos de Nuevo\")\n",
        "            continue\n",
        "        except:\n",
        "            print(\"Error no pueden ser letras\")\n",
        "            print(\"Intentemos de Nuevo\")\n",
        "            continue\n",
        "\n",
        "        else:\n",
        "            prom = prom / 3\n",
        "            if prom >= 60:\n",
        "                print(\"FELICIADAES SIGUES JUGANDO EL PROXIMO SEMESTRE\")\n",
        "                j=4\n",
        "            else:\n",
        "                print(f\"Te quedan {i}\")\n",
        "                j+=1\n",
        "\n",
        "\n"
      ]
    },
    {
      "cell_type": "markdown",
      "metadata": {
        "id": "jHDavzC2Rpxf"
      },
      "source": [
        "Menu"
      ]
    },
    {
      "cell_type": "code",
      "execution_count": null,
      "metadata": {
        "id": "5gbeE5RPWQAx"
      },
      "outputs": [],
      "source": [
        "def menu():\n",
        "    print(\"          MENU        \")\n",
        "    print(\"1.- FUNCIÓN QUE LEA n CANTIDAD DE NÚMEROS HASTA QUE EL USUARIO LO DESEE\")\n",
        "    print(\"2 -FUNCIÓN QUE GENERE 15 NÚMEROS IMPARES ENTRE 10 Y 60 o MÁXIMO DE 25 NÚMEROS.\")\n",
        "    print(\"3 - FUNCIÓN QUE SIRVA PARA LEER UN RANGO DADO POR EL USUARIO. REPETIR ESTA ACCIÓN HASTA QUE EL USUARIO LO DESEE\")\n",
        "    print(\"4.- FUNCIÓN QUE RECIBA COMO PARÁMETRO LOS VALORES PARA EL ÁREA DE UN TRIANGULO Y RETORNE SU RESULTADO\")\n",
        "    print(\"5.- FUNCION QUE SIRVA QUE SIRVA PARA EVALUAR EL PROMEDIO DE 3 CALIFICACIONES DADAS,\", end=' ')\n",
        "    print(\"SI EL USUARIO SU CALIFICACION ES APROBADA MANDAR MSGE QUE DIGA \\\"felicidades avanzas al siguiente semestre\",end=' ')\n",
        "    print(\"SI LA CALIFICACIONE ESTA REPROBADA EL MENSAGE \\\"repetir materia \\\" EL ALUMNO TENDRA UN MAXIMO DE CURSAR 3 VESES LA MATERIA\")\n",
        "    print(\"Que funcion quieres leer? \")\n",
        "    res = validacion_de_num(1,6)\n",
        "\n",
        "    if res == 1:\n",
        "        clear_output()\n",
        "        lee_num()\n",
        "    elif res == 2:\n",
        "        clear_output()\n",
        "        generador_num()\n",
        "    elif res == 3:\n",
        "        clear_output()\n",
        "        validar()\n",
        "    elif res == 4:\n",
        "        clear_output()\n",
        "        base = float(input(\"Ingrese la base del triangulo \"))\n",
        "        altura = float(input(\"Ingrese la altura del triangulo \"))\n",
        "        area()\n",
        "    elif res == 5:\n",
        "        clear_output()\n",
        "        EvaluarUABC()"
      ]
    },
    {
      "cell_type": "markdown",
      "source": [
        "CODIGO PRINCIPAL"
      ],
      "metadata": {
        "id": "mwjDnYzkww2p"
      }
    },
    {
      "cell_type": "code",
      "source": [
        "menu()"
      ],
      "metadata": {
        "colab": {
          "base_uri": "https://localhost:8080/"
        },
        "id": "s_PhqxUWwwKK",
        "outputId": "564f7e11-d3c6-4c5d-e5c9-550d76fafec4"
      },
      "execution_count": null,
      "outputs": [
        {
          "output_type": "stream",
          "name": "stdout",
          "text": [
            "Se acompleto los 25 numeros maximos\n",
            "La media de impares es: 21.933333333333334\n",
            "La media de impares es: 34.0\n"
          ]
        }
      ]
    }
  ],
  "metadata": {
    "colab": {
      "provenance": [],
      "include_colab_link": true
    },
    "kernelspec": {
      "display_name": "Python 3",
      "name": "python3"
    },
    "language_info": {
      "name": "python"
    }
  },
  "nbformat": 4,
  "nbformat_minor": 0
}