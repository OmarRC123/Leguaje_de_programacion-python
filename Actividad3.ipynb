{
  "nbformat": 4,
  "nbformat_minor": 0,
  "metadata": {
    "colab": {
      "provenance": [],
      "authorship_tag": "ABX9TyNoJcqXGMiEPgAttlE0m2y8",
      "include_colab_link": true
    },
    "kernelspec": {
      "name": "python3",
      "display_name": "Python 3"
    },
    "language_info": {
      "name": "python"
    }
  },
  "cells": [
    {
      "cell_type": "markdown",
      "metadata": {
        "id": "view-in-github",
        "colab_type": "text"
      },
      "source": [
        "<a href=\"https://colab.research.google.com/github/OmarRC123/Lenguaje_de_programacion-python/blob/main/Actividad3.ipynb\" target=\"_parent\"><img src=\"https://colab.research.google.com/assets/colab-badge.svg\" alt=\"Open In Colab\"/></a>"
      ]
    },
    {
      "cell_type": "markdown",
      "source": [
        "# Actividad 3"
      ],
      "metadata": {
        "id": "qQ-9hL4hEHN6"
      }
    },
    {
      "cell_type": "markdown",
      "source": [
        "## Ejercicio 1\n",
        "Algoritmo que lea 3 calificaciones calcule el promedio del alumno"
      ],
      "metadata": {
        "id": "GO8J6Dl3FARZ"
      }
    },
    {
      "cell_type": "code",
      "source": [
        "calif1= int(input(\"Dame la calificacion 1: \"))\n",
        "calif2= int(input(\"Dame la calificacion 2: \"))\n",
        "calif3= int(input(\"Dame la calificacion 3: \"))\n",
        "prom= float((calif1+calif2+calif3)/3)\n",
        "if (prom<30):\n",
        "  print(f\"Tu promedio es de {prom} y tienes que repetir\")\n",
        "elif (prom<60):\n",
        "  print(f\"Tu promedio es de {prom} y te vas a extraordinario\")\n",
        "elif (prom<70):\n",
        "  print(f\"Tu promedio es de {prom} y con eso es suficiente\")\n",
        "elif (prom<80):\n",
        "  print(f\"Tu promedio es de {prom} y eres regular\")\n",
        "elif (prom<90):\n",
        "  print(f\"Tu promedio es de {prom} bien!\")\n",
        "elif (prom<98):\n",
        "  print(f\"Tu promedio es de {prom} muy bien!!!!\")\n",
        "elif (prom<=100):\n",
        "  print(f\"Tu promedio es de {prom} excelente!!!!\")\n",
        "else:\n",
        "  print(\"Error en el promedio\")"
      ],
      "metadata": {
        "colab": {
          "base_uri": "https://localhost:8080/"
        },
        "id": "-M1QTcgbFNmd",
        "outputId": "edb7ac9e-d108-463f-d302-09dbac7485c0"
      },
      "execution_count": null,
      "outputs": [
        {
          "output_type": "stream",
          "name": "stdout",
          "text": [
            "Dame la calificacion 1: 100\n",
            "Dame la calificacion 2: 100\n",
            "Dame la calificacion 3: 100\n",
            "Tu promedio es de 100.0 excelente!!!!\n"
          ]
        }
      ]
    },
    {
      "cell_type": "markdown",
      "source": [
        "## Ejercicio 2\n",
        "Algoritmo que sirva para calcular el salario semanal de un trabajador donde se obtiene como dato de entrada las horas semanales trabajadas, el salario por hora.\n",
        "\n",
        "El programa deberá calcular el salario normal, salario extra y salario total, considerando lo siguiente:\n",
        "\n",
        "Jornada Normal de 40 horas.\n",
        "El salario normal se considera las horas trabajadas menores o igual a la jornada normal\n",
        "Salario extra se considera las horas trabajadas mayores a la jornada normal y se pagan dobles las primeras 9 y triples a partir de la décima hora extra"
      ],
      "metadata": {
        "id": "XgkhAgZ9HVYx"
      }
    },
    {
      "cell_type": "code",
      "source": [
        "sueldoxhora= float(input(\"Cual es tu sueldo por hora: \"))\n",
        "horastrabajadas= int(input(\"Cuantas horas trabajaste: \"))\n",
        "horasextra= horastrabajadas-40\n",
        "if (horastrabajadas<=40):\n",
        "  sueldotot= sueldoxhora*horastrabajadas\n",
        "  print(f\"Tu sueldo es por hora es {sueldoxhora}, trabajaste {horastrabajadas} horas, no tienes sueldo extra y el sueldo total es {sueldotot}\")\n",
        "elif (horastrabajadas<=49):\n",
        "  horasextra= horastrabajadas-40\n",
        "  sueldoex= horasextra*suleldoxhora\n",
        "  sueldonor= sueldo*horastrabajadas\n",
        "  sueldotot= (sueldoxhora*horastrabajadas)+(horasextra*sueldoxhora)\n",
        "  print(f\"Tu sueldo es por hora es {sueldoxhora}, trabajaste {horastrabajadas} horas, el sueldo normal es {sueldonor}, tu sueldo extra es {sueldoex} y el sueldo total es {sueldotot}\")\n",
        "else:\n",
        "  horasextra= horastrabajadas-40\n",
        "  sueldoex= (2*(horasextra*sueldoxhora))\n",
        "  sueldonor= sueldoxhora*horastrabajadas\n",
        "  sueldotot= (sueldoxhora*horastrabajadas)+(2*(horasextra*sueldoxhora))\n",
        "\n",
        "  print(f\"Tu sueldo es por hora es {sueldoxhora}, trabajaste {horastrabajadas} horas, el sueldo normal es {sueldonor}, tu sueldo extra es {sueldoex} y el sueldo total es {sueldotot}\")"
      ],
      "metadata": {
        "colab": {
          "base_uri": "https://localhost:8080/"
        },
        "id": "A8pPeMUJHya4",
        "outputId": "882f7457-3755-4f37-c680-83612769dccf"
      },
      "execution_count": 5,
      "outputs": [
        {
          "output_type": "stream",
          "name": "stdout",
          "text": [
            "Cual es tu sueldo por hora: 400\n",
            "Cuantas horas trabajaste: 30\n",
            "Tu sueldo es por hora es 400.0, trabajaste 30 horas, no tienes sueldo extra y el sueldo total es 12000.0\n"
          ]
        }
      ]
    },
    {
      "cell_type": "markdown",
      "source": [
        "## Ejercicio 3\n",
        "3.- Algoritmo que sirva para desplegar el Total de una llamada telefónica donde se pide como datos de entrada los minutos y el tipo de llamadaº"
      ],
      "metadata": {
        "id": "r4uEBAA9kPv1"
      }
    },
    {
      "cell_type": "code",
      "source": [
        "min= int(input(\"De cuantos minutos fue la llamada? \"))\n",
        "tipo= int(input(\"Seleccione el tipo de llamada, 1 para llamada local, 2 para llamada nacional y 3 para llamada internacional: \"))\n",
        "if (tipo == 1):\n",
        "  total= min*3\n",
        "  subtotal= total/1.16\n",
        "  iva= total-subtotal\n",
        "  print(f\"El Subtotal es {subtotal}, el IVA del 16% es {iva}, y el total de la llamada es {total}\")\n",
        "elif (tipo == 2):\n",
        "  if (min<=3):\n",
        "    total= min*7\n",
        "    subtotal= total/1.16\n",
        "    iva= total-subtotal\n",
        "    print(f\"El Subtotal es {subtotal}, el IVA del 16% es {iva}, y el total de la llamada es {total}\")\n",
        "  else:\n",
        "    minex= min-3\n",
        "    minnor= min-minex\n",
        "    print(f\"{minex}\")\n",
        "    total= (minex*2)+(minnor*7)\n",
        "    subtotal= total/1.16\n",
        "    iva= total-subtotal\n",
        "    print(f\"El Subtotal es {subtotal}, el IVA del 16% es {iva}, y el total de la llamada es {total}\")\n",
        "elif (tipo == 3):\n",
        "  if (min<=2):\n",
        "    total= min*9\n",
        "    subtotal= total/1.16\n",
        "    iva= total-subtotal\n",
        "    print(f\"El Subtotal es {subtotal}, el IVA del 16% es {iva}, y el total de la llamada es {total}\")\n",
        "  else:\n",
        "    minex= min-2\n",
        "    minnor= min-minex\n",
        "    print(f\"{minex}\")\n",
        "    total= (minex*4)+(minnor*9)\n",
        "    subtotal= total/1.16\n",
        "    iva= total-subtotal\n",
        "    print(f\"El Subtotal es {subtotal}, el IVA del 16% es {iva}, y el total de la llamada es {total}\")\n"
      ],
      "metadata": {
        "colab": {
          "base_uri": "https://localhost:8080/"
        },
        "id": "YRZePRMbsZVZ",
        "outputId": "7c84ccfd-67ad-413d-be88-afc6a6f82926"
      },
      "execution_count": 25,
      "outputs": [
        {
          "output_type": "stream",
          "name": "stdout",
          "text": [
            "De cuantos minutos fue la llamada? 3\n",
            "Seleccione el tipo de llamada, 1 para llamada local, 2 para llamada nacional y 3 para llamada internacional: 3\n",
            "1\n",
            "El Subtotal es 18.965517241379313, el IVA del 16% es 3.034482758620687, y el total de la llamada es 22\n"
          ]
        }
      ]
    },
    {
      "cell_type": "markdown",
      "source": [
        "## Ejercicio 4\n",
        "Algoritmo que sirva para calcular el Total a pagar por consumo de agua, donde el dato de entrada son los M3 de agua consumidos, Tomar en cuenta que se cobra escalonada"
      ],
      "metadata": {
        "id": "nMiPgQqHw26Y"
      }
    },
    {
      "cell_type": "code",
      "source": [
        "metros = float(input(\"Cuantos metros cubicos de agua consumio?  \"))\n",
        "costo = 0\n",
        "if metros <= 4:\n",
        "    costo = 50\n",
        "elif metros <= 15:\n",
        "    costo = metros * 8\n",
        "elif metros <= 50:\n",
        "    costo = metros * 10\n",
        "elif metros >= 51:\n",
        "    costo = metros * 11\n",
        "\n",
        "subtotal = costo/1.16\n",
        "iva = costo-subtotal\n",
        "total = subtotal + iva\n",
        "print(f\"El subtotal es de: {subtotal}\")\n",
        "print(f\"El iva es de: {iva}\")\n",
        "print(f\"El total a pagar es de: {total}\")"
      ],
      "metadata": {
        "colab": {
          "base_uri": "https://localhost:8080/"
        },
        "id": "hbOJRaaWw9eZ",
        "outputId": "966d50c0-e856-48f6-b722-7de41e76d533"
      },
      "execution_count": 33,
      "outputs": [
        {
          "output_type": "stream",
          "name": "stdout",
          "text": [
            "Cuantos metros cubicos de agua consumio?  34\n",
            "El subtotal es de: 293.1034482758621\n",
            "El iva es de: 46.89655172413791\n",
            "El total a pagar es de: 340.0\n"
          ]
        }
      ]
    },
    {
      "cell_type": "markdown",
      "source": [
        "## Ejercicio 5\n",
        "5- En la materia de Metodología de la programación se aplican 5 exámenes, calcular el promedio final de la materia donde la calificación menor de los exámenes se anula y el promedio se calcula en base a 4 exámenes.\n",
        "\n",
        "Desplegar el promedio final."
      ],
      "metadata": {
        "id": "75GRc-Na2jyS"
      }
    },
    {
      "cell_type": "code",
      "source": [
        "calif1=float(input(\"Cual es la calificacion 1: \"))\n",
        "calif2=float(input(\"Cual es la calificacion 2: \"))\n",
        "calif3=float(input(\"Cual es la calificacion 3: \"))\n",
        "calif4=float(input(\"Cual es la calificacion 4: \"))\n",
        "calif5=float(input(\"Cual es la calificacion 5: \"))\n",
        "\n",
        "if(calif1 < calif2):\n",
        "    if(calif1 < calif3):\n",
        "        if(calif1 < calif4):\n",
        "            if(calif1 < calif5):\n",
        "                promedio = (calif2 + calif3 + calif4 + calif5)/4\n",
        "elif(calif2 < calif1):\n",
        "    if(calif2 < calif3):\n",
        "        if(calif2 < calif4):\n",
        "            if(calif2 < calif5):\n",
        "                promedio = (calif1 + calif3 + calif4 + calif5)/4\n",
        "elif(calif3 < calif1):\n",
        "    if(calif3 < calif2):\n",
        "        if(calif3 < calif4):\n",
        "            if(calif3 < calif5):\n",
        "                promedio = (calif1 + calif2 + calif4 + calif5)/4\n",
        "elif(calif4 < calif1):\n",
        "    if(calif4 < calif2):\n",
        "        if(calif4 < calif3):\n",
        "            if(calif4 < calif5):\n",
        "                promedio = (calif1 + calif2 + calif3 + calif5)/4\n",
        "elif(calif5 < calif1):\n",
        "    if(calif5 < calif2):\n",
        "        if(calif5 < calif3):\n",
        "            if(calif5 < calif4):\n",
        "                promedio = (calif1 + calif2 + calif3 + calif4)/4\n",
        "print(\"El promedio es: \", promedio)"
      ],
      "metadata": {
        "colab": {
          "base_uri": "https://localhost:8080/"
        },
        "id": "EhclaQmV2oc8",
        "outputId": "da5b560c-ea75-4391-d712-c0c7bab23fd3"
      },
      "execution_count": 35,
      "outputs": [
        {
          "output_type": "stream",
          "name": "stdout",
          "text": [
            "Cual es la calificacion numero 1: 100\n",
            "Cual es la calificacion numero 2: 40\n",
            "Cual es la calificacion numero 3: 30\n",
            "Cual es la calificacion numero 4: 40\n",
            "Cual es la calificacion numero 5: 10\n",
            "El promedio es:  52.5\n"
          ]
        }
      ]
    },
    {
      "cell_type": "markdown",
      "source": [
        "## Ejercicio 6\n",
        "6.- Algoritmo que sirva para el juego del CHINCHAMPU (Piedra, Papel, Tijera) para 1 jugador y la computadora, (usar condición anidada)"
      ],
      "metadata": {
        "id": "IQEP1qDBiGaa"
      }
    },
    {
      "cell_type": "code",
      "source": [
        "import random\n",
        "escoger= int(input(\"Escoge 1 para piedra, 2 para papel o 3 para tijera: \"))\n",
        "if (escoger ==1):\n",
        "    compu= (random.randrange(1, 3, 1))\n",
        "    if (compu==1):\n",
        "      print (\"Escogiste piedra y la maquina tambien, esto es un empate\")\n",
        "    elif (compu==2):\n",
        "      print (\"Escogiste piedra y la maquina papel, gana la computadora\")\n",
        "    elif (compu==3):\n",
        "      print (\"Escogiste piedra y la maquina tijera, tu ganas!!!\")\n",
        "elif (escoger ==2):\n",
        "    compu= (random.randrange(1, 3, 1))\n",
        "    if (compu==1):\n",
        "      print (\"Escogiste papel y la maquina piedra, tu ganas!!!\")\n",
        "    elif (compu==2):\n",
        "      print (\"Escogiste papel y la maquina papel, esto es un empate\")\n",
        "    elif (compu==3):\n",
        "      print (\"Escogiste papel y la maquina tijera, gana la computadora\")\n",
        "elif (escoger ==3):\n",
        "    compu= (random.randrange(1, 3, 1))\n",
        "    if (compu==1):\n",
        "      print (\"Escogiste tijera y la maquina piedra, gana la computadora\")\n",
        "    elif (compu==2):\n",
        "      print (\"Escogiste tijera y la maquina papel, tu ganas!!!\")\n",
        "    elif (compu==3):\n",
        "      print (\"Escogiste tijera y la maquina tijera, esto es un empate\")\n",
        "else:\n",
        "  print(\"Error con tu eleccion, intenta de nuevo\")\n"
      ],
      "metadata": {
        "id": "uDNpiiYHJqmq",
        "colab": {
          "base_uri": "https://localhost:8080/"
        },
        "outputId": "05ed1359-ad38-458f-b523-21730008b002"
      },
      "execution_count": 17,
      "outputs": [
        {
          "output_type": "stream",
          "name": "stdout",
          "text": [
            "Escoge 1 para piedra, 2 para papel o 3 para tijera: 3\n",
            "Escogiste tijera y la maquina papel, tu ganas!!!\n"
          ]
        }
      ]
    },
    {
      "cell_type": "markdown",
      "source": [
        "## Ejercicio 7\n",
        "7.- Algoritmo que sirva para el juego del CHINCHAMPU (Piedra, Papel, Tijera) para 1 jugador y la computadora, (usar selección múltiple)"
      ],
      "metadata": {
        "id": "NEVHE_Yw3fRQ"
      }
    },
    {
      "cell_type": "code",
      "source": [
        "escoger= int(input(\"Escoge 1 para piedra, 2 para papel o 3 para tijera: \"))\n",
        "if (escoger ==1):\n",
        "    compu= (random.randrange(1, 3, 1))\n",
        "    if (compu==1):\n",
        "      print (\"Escogiste piedra y la maquina tambien, esto es un empate\")\n",
        "    elif (compu==2):\n",
        "      print (\"Escogiste piedra y la maquina papel, gana la computadora\")\n",
        "    elif (compu==3):\n",
        "      print (\"Escogiste piedra y la maquina tijera, tu ganas!!!\")\n",
        "elif (escoger ==2):\n",
        "    compu= (random.randrange(1, 3, 1))\n",
        "    if (compu==1):\n",
        "      print (\"Escogiste papel y la maquina piedra, tu ganas!!!\")\n",
        "    elif (compu==2):\n",
        "      print (\"Escogiste papel y la maquina papel, esto es un empate\")\n",
        "    elif (compu==3):\n",
        "      print (\"Escogiste papel y la maquina tijera, gana la computadora\")\n",
        "elif (escoger ==3):\n",
        "    compu= (random.randrange(1, 3, 1))\n",
        "    if (compu==1):\n",
        "      print (\"Escogiste tijera y la maquina piedra, gana la computadora\")\n",
        "    elif (compu==2):\n",
        "      print (\"Escogiste tijera y la maquina papel, tu ganas!!!\")\n",
        "    elif (compu==3):\n",
        "      print (\"Escogiste tijera y la maquina tijera, esto es un empate\")\n",
        "else:\n",
        "  print(\"Error con tu eleccion, intenta de nuevo\")"
      ],
      "metadata": {
        "colab": {
          "base_uri": "https://localhost:8080/"
        },
        "id": "ksSsOzPf3lq0",
        "outputId": "538318f4-6373-46bd-8fe8-09547628cab1"
      },
      "execution_count": 37,
      "outputs": [
        {
          "output_type": "stream",
          "name": "stdout",
          "text": [
            "Escoge 1 para piedra, 2 para papel o 3 para tijera: 3\n",
            "Escogiste tijera y la maquina papel, tu ganas!!!\n"
          ]
        }
      ]
    },
    {
      "cell_type": "markdown",
      "source": [
        "## Ejercicio 8\n",
        "Una tienda de electrónica ofrece descuentos a sus clientes, dependiendo del tipo de producto que compren."
      ],
      "metadata": {
        "id": "F56pAP5f4EtH"
      }
    },
    {
      "cell_type": "code",
      "source": [
        "print(\"Que es lo que compro\")\n",
        "print(\"1- Computadora\\n2- Television\\n3- Consola de videojuegos\")\n",
        "compra= int(input(\" \"))\n",
        "if compra == 1:\n",
        "    print(\"Presiona \\n1 - SI\\n2 - NO\")\n",
        "    pago = float(input(\"Cuanto pagaras? \"))\n",
        "    print(\"Presiona \\n1 - SI\\n2 - NO\")\n",
        "    extra = int(input(\"Compraste la impresora? \"))\n",
        "    if extra == 1:\n",
        "        pago1 = float(input(\"Cuanto costo la computadora? \"))\n",
        "        total1 = pago1 - (pago1 * 0.05)\n",
        "        pago2 = float(input(\"Cuanto costo la impresora? \"))\n",
        "        total2 = pago2 - (pago2 * 0.1)\n",
        "        print (f\"Pago por ordenador : {total1}\")\n",
        "        print (f\"Pago por impresora : {total2}\")\n",
        "        print (f\"Pago total: {total1 + total2}\")\n",
        "    else:\n",
        "        total = pago - (pago * 0.05)\n",
        "        print (f\"Pago total: {total}\")\n",
        "\n",
        "\n",
        "elif compra == 2:\n",
        "    print(\"Presiona \\n1 - SI\\n2 - NO\")\n",
        "    pago = float(input(\"Cuanto pagaras? \"))\n",
        "    print(\"Presiona \\n1 - SI\\n2 - NO\")\n",
        "    extra = int(input(\"Compraste la barra de sonido? \"))\n",
        "    if extra == 1:\n",
        "        pago1 = float(input(\"Cuanto costo la television? \"))\n",
        "        total1 = pago1 - (pago1 * 0.07)\n",
        "        pago2 = float(input(\"Cuanto costo la barra de sonido? \"))\n",
        "        total2 = pago2 - (pago2 * 0.15)\n",
        "        print (f\"Pago por television : {total1}\")\n",
        "        print (f\"Pago por barra de sonido: {total2}\")\n",
        "        print (f\"Pago total: {total1 + total2}\")\n",
        "\n",
        "    else:\n",
        "        total = pago - (pago * 0.07)\n",
        "        print (f\"Pago total: {total}\")\n",
        "elif compra == 3:\n",
        "    print(\"Presiona \\n1 - SI\\n2 - NO\")\n",
        "    pago = float(input(\"Cuanto pagaras? \"))\n",
        "    print(\"Presiona \\n1 - SI\\n2 - NO\")\n",
        "    extra = int(input(\"Compraste un juego aparte con la consala? \"))\n",
        "    if extra == 1:\n",
        "        pago1 = float(input(\"Cuanto costo la consola? \"))\n",
        "        total1 = pago1 - (pago1 * 0.10)\n",
        "        pago2 = float(input(\"Cuanto costo el juego? \"))\n",
        "        total2 = pago2 - (pago2 * 0.20)\n",
        "        print (f\"Pago por la consola : {total1}\")\n",
        "        print (f\"Pago por el juego: {total2}\")\n",
        "        print (f\"Pago total: {total1 + total2}\")\n",
        "    else:\n",
        "        total = pago - (pago * 0.10)\n",
        "        print (f\"Pago total: {total}\")\n",
        "\n",
        "else:\n",
        "    print(\"Error, intente de nuevo \")"
      ],
      "metadata": {
        "colab": {
          "base_uri": "https://localhost:8080/"
        },
        "id": "CQZeMR-74MWL",
        "outputId": "ba25ccb4-605c-49ce-d859-62fe1f74323d"
      },
      "execution_count": 52,
      "outputs": [
        {
          "output_type": "stream",
          "name": "stdout",
          "text": [
            "Que es lo que compro\n",
            "1- Computadora\n",
            "2- Television\n",
            "3- Consola de videojuegos\n",
            " 3\n",
            "Presiona \n",
            "1 - SI\n",
            "2 - NO\n",
            "Cuanto pagaras? 2\n",
            "Presiona \n",
            "1 - SI\n",
            "2 - NO\n",
            "Compraste un juego aparte con la consala? 1\n",
            "Cuanto costo la consola? 1\n",
            "Cuanto costo el juego? 1\n",
            "Pago por television : 0.9\n",
            "Pago por barra de sonido: 0.8\n",
            "Pago total: 1.7000000000000002\n"
          ]
        }
      ]
    },
    {
      "cell_type": "markdown",
      "source": [
        "## Ejercicio 9\n",
        "En una tienda de ropa, los precios de los productos cambian dependiendo de la temporada."
      ],
      "metadata": {
        "id": "k-jIGPSn4y18"
      }
    },
    {
      "cell_type": "code",
      "source": [
        "print(\"\\n1- Verano\\n2- Invierno\\n3- Primavera o Otoño \")\n",
        "temp=int(input(\"Seleccione en que temporada esta comprando: \"))\n",
        "\n",
        "\n",
        "if temp == 1:\n",
        "     gasto = float(input(\"Cuanto gastaste? \"))\n",
        "     total = gasto - (gasto * 0.20)\n",
        "     print (f\"Por ser verano los articulos tienen un 20% de descuento por lo que su total sera de: {total}\")\n",
        "\n",
        "elif temp == 2:\n",
        "    gasto = float(input(\"Cuanto gastaste? \"))\n",
        "    print(\"Presiona \\n1 - SI\\n2 - NO\")\n",
        "    tipo = int(input(\"Elegiste tus articulos con etiqueta roja? \"))\n",
        "    if tipo == 1:\n",
        "        total = gasto - (gasto * 0.30)\n",
        "        print (f\"Por ser invierno los articulos de etiqueta roja tienen un 15% de descuento por lo que su total sera de: {total}\")\n",
        "    else:\n",
        "        print(\"Presiona \\n1 - SI\\n2 - NO\")\n",
        "        tipo = int(input(\"Elegiste tus articulos con etiqueta verde? \"))\n",
        "        if tipo == 1:\n",
        "            total = gasto - (gasto * 0.15)\n",
        "            print (f\"Por ser invierno los articulos de etiqueta verde tienen un 15% de descuento por lo que su total sera de: {total}\")\n",
        "        else:\n",
        "            print(f\"Pagaras un total de {gasto}\")\n",
        "elif temp == 3:\n",
        "    gasto = float(input(\"Cuanto gastaste? \"))\n",
        "    print(\"Presiona \\n1 - SI\\n2 - NO\")\n",
        "    tipo = int(input(\"Elegiste tus articulos con etiqueta amarilla? \"))\n",
        "    if tipo == 1:\n",
        "        total = gasto - (gasto * 0.10 )\n",
        "        print(f\"Pagaras un total de {total}\")\n",
        "    else:\n",
        "        print(f\"Pagaras un total de {gasto}\")\n",
        "\n",
        "else:\n",
        "    print(\"Error, intente de nuevo \")"
      ],
      "metadata": {
        "colab": {
          "base_uri": "https://localhost:8080/"
        },
        "id": "qpjLPNsP6T4w",
        "outputId": "3319c1b7-5a8e-4cd1-d1b4-c2417749a4d4"
      },
      "execution_count": 56,
      "outputs": [
        {
          "output_type": "stream",
          "name": "stdout",
          "text": [
            "\n",
            "1- Verano\n",
            "2- Invierno\n",
            "3- Primavera o Otoño \n",
            "Seleccione en que temporada esta comprando: 3\n",
            "Cuanto gastaste? 23\n",
            "Presiona \n",
            "1 - SI\n",
            "2 - NO\n",
            "Elegiste tus articulos con etiqueta amarilla? 1\n",
            "Pagaras un total de 20.7\n"
          ]
        }
      ]
    },
    {
      "cell_type": "markdown",
      "source": [
        "## Ejercicio 10\n",
        "Un restaurante ofrece descuentos a sus clientes, dependiendo del día de la semana y del tipo de menú que pidan."
      ],
      "metadata": {
        "id": "LFs-37bt6lQW"
      }
    },
    {
      "cell_type": "code",
      "source": [
        "print(\"Presiona \\n1- Lunes\\n2- Martes\\n3- Miercoles\\n4- Jueves\")\n",
        "print(\"5- Viernes\\n-6- Sabado\\n7- Domingo\")\n",
        "dia = int(input(\"Que dia de la semana es? \"))\n",
        "if dia == 1:\n",
        "    gasto = float(input(\"Cuanto gastaste? \"))\n",
        "    print(\"Presiona \\n1 - SI\\n2 - NO\")\n",
        "    menu = int(input(\"Elegiste el menu del dia? \"))\n",
        "    if menu == 1:\n",
        "        pago = gasto - (gasto * 0.10 )\n",
        "        print(f\"Pagaras un total de {pago}\")\n",
        "    else:\n",
        "        print(f\"Pagaras un total de {gasto}\")\n",
        "elif dia == 2:\n",
        "    gasto = float(input(\"Cuanto gastaste? \"))\n",
        "    print(\"Presiona \\n1 - SI\\n2 - NO\")\n",
        "    menu = int(input(\"Elegiste el menu infantil? \"))\n",
        "    if menu == 1:\n",
        "        pago = gasto - (gasto * 0.20 )\n",
        "        print(f\"Pagaras un total de {pago}\")\n",
        "    else:\n",
        "        print(f\"Pagaras un total de {gasto}\")\n",
        "elif dia == 3:\n",
        "    gasto = float(input(\"Cuanto gastaste? \"))\n",
        "    print(\"Presiona \\n1 - SI\\n2 - NO\")\n",
        "    menu = int(input(\"Elegiste el menu vegetariano \"))\n",
        "    if menu == 1:\n",
        "        pago = gasto - (gasto * 0.15 )\n",
        "        print(f\"Pagaras un total de {pago}\")\n",
        "    else:\n",
        "        print(f\"Pagaras un total de {gasto}\")\n",
        "elif dia == 4:\n",
        "    gasto = float(input(\"Cuanto gastaste? \"))\n",
        "    print(\"Presiona \\n1 - SI\\n2 - NO\")\n",
        "    menu = int(input(\"Elegiste el menu chef? \"))\n",
        "    if menu == 1:\n",
        "        pago = gasto - (gasto * 0.05 )\n",
        "        print(f\"Pagaras un total de {pago}\")\n",
        "    else:\n",
        "        print(f\"Pagaras un total de {gasto}\")\n",
        "elif dia == 5:\n",
        "    gasto = float(input(\"Cuanto gastaste? \"))\n",
        "    print(\"Presiona \\n1 - SI\\n2 - NO\")\n",
        "    menu = int(input(\"Elegiste el menu del dia? \"))\n",
        "    if menu == 1:\n",
        "        pago = gasto - (gasto * 0.05 )\n",
        "        print(f\"Pagaras un total de {pago}\")\n",
        "    else:\n",
        "        print(f\"Pagaras un total de {gasto}\")\n",
        "elif dia == 6 or dia == 7:\n",
        "    gasto = float(input(\"Cuanto gastaste? \"))\n",
        "    print(\"Presiona \\n1 - SI\\n2 - NO\")\n",
        "    print(\"No hay descuentos\")\n",
        "    print(f\"Pagaras un total de {gasto}\")\n",
        "\n",
        "else:\n",
        "    print(\"Error, intente de nuevo\")"
      ],
      "metadata": {
        "colab": {
          "base_uri": "https://localhost:8080/"
        },
        "id": "rTC0bkoY6pTn",
        "outputId": "07ae5c8e-e802-4e2e-cdbd-c3fe47259655"
      },
      "execution_count": 62,
      "outputs": [
        {
          "output_type": "stream",
          "name": "stdout",
          "text": [
            "Presiona \n",
            "1- Lunes\n",
            "2- Martes\n",
            "3- Miercoles\n",
            "4- Jueves\n",
            "5- Viernes\n",
            "-6- Sabado\n",
            "7- Domingo\n",
            "Que dia de la semana es? 4\n",
            "Cuanto gastaste? 4234\n",
            "Presiona \n",
            "1 - SI\n",
            "2 - NO\n",
            "Elegiste el menu chef? 2\n",
            "Pagaras un total de 4234.0\n"
          ]
        }
      ]
    }
  ]
}