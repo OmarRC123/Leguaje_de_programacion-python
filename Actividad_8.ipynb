{
  "nbformat": 4,
  "nbformat_minor": 0,
  "metadata": {
    "colab": {
      "provenance": [],
      "include_colab_link": true
    },
    "kernelspec": {
      "name": "python3",
      "display_name": "Python 3"
    },
    "language_info": {
      "name": "python"
    }
  },
  "cells": [
    {
      "cell_type": "markdown",
      "metadata": {
        "id": "view-in-github",
        "colab_type": "text"
      },
      "source": [
        "<a href=\"https://colab.research.google.com/github/OmarRC123/Lenguaje_de_programacion-python/blob/main/Actividad_8.ipynb\" target=\"_parent\"><img src=\"https://colab.research.google.com/assets/colab-badge.svg\" alt=\"Open In Colab\"/></a>"
      ]
    },
    {
      "cell_type": "markdown",
      "source": [
        "# Actividad 8  "
      ],
      "metadata": {
        "id": "kmiMWDnjT825"
      }
    },
    {
      "cell_type": "code",
      "execution_count": 1,
      "metadata": {
        "id": "HWBHHWBpr2iI"
      },
      "outputs": [],
      "source": [
        "import random\n",
        "from IPython.display import clear_output\n",
        "import time\n"
      ]
    },
    {
      "cell_type": "code",
      "source": [
        "def vali_num(msge,msge2):\n",
        "    salida = 1\n",
        "    while(salida == 1):\n",
        "            try:\n",
        "                print(msge)\n",
        "                n = input(f\"{msge2}\")\n",
        "                n_entero = int(n)\n",
        "                if int(n):\n",
        "                    return n_entero\n",
        "            except ValueError:\n",
        "                print(\"No es un numero\")\n",
        "                print(\"Intenta de nuevo\")\n",
        "            else:\n",
        "                salida = 0\n"
      ],
      "metadata": {
        "id": "DnUT63Otsl4Y"
      },
      "execution_count": 2,
      "outputs": []
    },
    {
      "cell_type": "code",
      "source": [
        "def juego1():\n",
        "    num = random.randint(1,10)\n",
        "    acer = 1\n",
        "    c=2\n",
        "    while(c>=0):\n",
        "        msge = \"Que numero crees que salio ?\"\n",
        "        msge2 = \"Ingrese un número: \"\n",
        "        usuario = vali_num(msge,msge2)\n",
        "        if(usuario == num):\n",
        "            print(f\"Has acertado! al intento numero {acer}\")\n",
        "            return 1\n",
        "            break\n",
        "        else:\n",
        "            if c!= 0:\n",
        "                print(f\"Te quedan {c} intento mas......\")\n",
        "            else:\n",
        "                print(f\"Sin intentos disponibles, suerte a la proxima......\")\n",
        "                clear_output(wait=True)\n",
        "                return 0\n",
        "            c -= 1\n",
        "            acer += 1"
      ],
      "metadata": {
        "id": "yidJxMLqsS2R"
      },
      "execution_count": 3,
      "outputs": []
    },
    {
      "cell_type": "code",
      "source": [
        "\n",
        "decision = 1\n",
        "ganado = 0\n",
        "perdido = 0\n",
        "while(decision == 1):\n",
        "    juego = juego1()\n",
        "    if juego == 1:\n",
        "        ganado += 1\n",
        "    if juego == 0:\n",
        "        perdido += 1\n",
        "    clear_output(wait=True)\n",
        "    time.sleep(5)\n",
        "    print(\"INGRESA:\")\n",
        "    print(\"1 - Para continuar \")\n",
        "    print(\"Presiona cualquier numero si deseas terminar\")\n",
        "    des = \"Deseas seguir jugando?\"\n",
        "    des2 = \"Ingresa tu decision : \"\n",
        "    decision = vali_num(des,des2)\n",
        "    clear_output(wait=True)\n",
        "    time.sleep(2)\n",
        "\n",
        "print(f\"Ganaste {ganado}\")\n",
        "print(f\"Perdiste {perdido}\")"
      ],
      "metadata": {
        "colab": {
          "base_uri": "https://localhost:8080/",
          "height": 0
        },
        "id": "f4crxIZ8WhWa",
        "outputId": "28f8b97c-69ee-4248-d97b-19d08db61bc8"
      },
      "execution_count": 4,
      "outputs": [
        {
          "output_type": "stream",
          "name": "stdout",
          "text": [
            "Ganaste 0\n",
            "Perdiste 1\n"
          ]
        }
      ]
    },
    {
      "cell_type": "markdown",
      "source": [
        "2.- El juego Busca Número muestra una lista de 10 numeros, sin mostrar su contenido,\n",
        "\n",
        "Al usuario se le muestra un número que se generó aleatoriamente y el usuario tendrá 3 intentos de adivinar en qué índice del arreglo se encuentra.\n",
        "\n",
        "El usuario recibirá un mensaje que diga GANASTE, PERDISTE, TIENES UN NUEVO INTENTO\n",
        "\n",
        "El usuario podrá jugar cuantas veces lo desee.\n",
        "\n",
        "\n",
        "\n",
        "NOTA: La lista se deberá llenar con números aleatorios del 1 al 10 no repetidos.\n",
        "\n",
        "(Hacer una función que regrese la lista con los 10 números sin repetir)"
      ],
      "metadata": {
        "id": "eUTJQoSVfHhT"
      }
    },
    {
      "cell_type": "markdown",
      "source": [
        "## VERSION 1"
      ],
      "metadata": {
        "id": "O9ivBILdnJVE"
      }
    },
    {
      "cell_type": "code",
      "source": [
        "def juego2A():\n",
        "    lista = []\n",
        "    while(len(lista) < 10):\n",
        "        num = random.randint(1,10)\n",
        "        if num not in lista:\n",
        "            lista.append(num)\n",
        "    for i in range(len(lista)):\n",
        "        print(\"[x]\",end='')\n",
        "    alea = random.randint(1,10)\n",
        "    print()\n",
        "    print(lista[alea])\n",
        "\n",
        "    buena = 1\n",
        "    fallo = 2\n",
        "    while(fallo>=0):\n",
        "        msg1 = \"En que indice crees que este el numero? \"\n",
        "        msg2 = \"Ingrese la respuesta: \"\n",
        "        usuario = vali_num(msg1,msg2)\n",
        "        if(usuario == num):\n",
        "            print(f\"Has acertado! al intento numero {buena}\")\n",
        "            return 1\n",
        "            break\n",
        "        else:\n",
        "            if fallo!= 0:\n",
        "                print(f\"Te quedan {fallo} intento mas......\")\n",
        "            else:\n",
        "                print(f\"Sin intentos disponibles, suerte a la proxima......\")\n",
        "                clear_output(wait=True)\n",
        "                return 0\n",
        "        fallo -= 1\n",
        "        buena += 1"
      ],
      "metadata": {
        "id": "c4LWctC3joQy"
      },
      "execution_count": 5,
      "outputs": []
    },
    {
      "cell_type": "code",
      "source": [
        "res = 1\n",
        "gano = 0\n",
        "perdio = 0\n",
        "while(res == 1):\n",
        "    jue = juego2A()\n",
        "    if jue == 1:\n",
        "        gano += 1\n",
        "    if jue == 0:\n",
        "        perdio += 1\n",
        "    clear_output(wait=True)\n",
        "    time.sleep(2)\n",
        "    print(\"INGRESA:\")\n",
        "    print(\"1 - SI DESEAS CONTINUAR \")\n",
        "    print(\"Presiona cualquier numero si deseas terminar \")\n",
        "    d = \"Deseas seguir jugando?\"\n",
        "    d2 = \"Ingresa tu decision : \"\n",
        "    res = vali_num(d,d2)\n",
        "    clear_output(wait=True)\n",
        "    time.sleep(2)\n",
        "\n",
        "print(f\"Ganaste {gano}\")\n",
        "print(f\"Perdiste {perdio}\")"
      ],
      "metadata": {
        "colab": {
          "base_uri": "https://localhost:8080/",
          "height": 0
        },
        "id": "gHChientmyxd",
        "outputId": "427a79a9-d6c4-422c-daa4-c815e82ce554"
      },
      "execution_count": 6,
      "outputs": [
        {
          "output_type": "stream",
          "name": "stdout",
          "text": [
            "Ganaste 1\n",
            "Perdiste 0\n"
          ]
        }
      ]
    },
    {
      "cell_type": "markdown",
      "source": [
        "## VERSION 2"
      ],
      "metadata": {
        "id": "enflB5cRYA_n"
      }
    },
    {
      "cell_type": "code",
      "source": [
        "def juego2B():\n",
        "    lista = []\n",
        "    while(len(lista) < 10):\n",
        "        num = random.randint(1,10)\n",
        "        if num not in lista:\n",
        "            lista.append(num)\n",
        "    for i in range(len(lista)):\n",
        "        print(\"[x]\",end='')\n",
        "    alea = random.randint(1,10)\n",
        "    print()\n",
        "    print(lista[alea])\n",
        "\n",
        "    buena = 1\n",
        "    fallo = 2\n",
        "    while(fallo>=0):\n",
        "        msg1 = \"En que indice crees que este el numero? \"\n",
        "        msg2 = \"Ingrese la respuesta: \"\n",
        "        usuario = vali_num(msg1,msg2)\n",
        "        if(usuario == num):\n",
        "            print(f\"Has acertado! al intento numero {buena}\")\n",
        "            return 1\n",
        "            break\n",
        "        else:\n",
        "            if fallo!= 0:\n",
        "                print(f\"Te quedan {fallo} intento mas......\")\n",
        "            else:\n",
        "                print(f\"Sin intentos disponibles, suerte a la proxima......\")\n",
        "                clear_output(wait=True)\n",
        "                return 0\n",
        "        fallo -= 1\n",
        "        buena += 1"
      ],
      "metadata": {
        "id": "L_t9rPjJYFn3"
      },
      "execution_count": 7,
      "outputs": []
    },
    {
      "cell_type": "code",
      "source": [
        "res = 1\n",
        "gano = 0\n",
        "perdio = 0\n",
        "while(res == 1):\n",
        "    jue = juego2A()\n",
        "    if jue == 1:\n",
        "        gano += 1\n",
        "    if jue == 0:\n",
        "        perdio += 1\n",
        "    clear_output(wait=True)\n",
        "    time.sleep(2)\n",
        "    print(\"INGRESA:\")\n",
        "    print(\"1 - SI DESEAS CONTINUAR \")\n",
        "    print(\"Presiona cualquier numero si deseas terminar \")\n",
        "    d = \"Deseas seguir jugando?\"\n",
        "    d2 = \"Ingresa tu decision : \"\n",
        "    res = vali_num(d,d2)\n",
        "    clear_output(wait=True)\n",
        "    time.sleep(2)\n",
        "\n",
        "print(f\"Ganaste {gano}\")\n",
        "print(f\"Perdiste {perdio}\")"
      ],
      "metadata": {
        "colab": {
          "base_uri": "https://localhost:8080/",
          "height": 0
        },
        "id": "EAiIYGM9Y8NA",
        "outputId": "daf64859-24ff-4793-b94c-93413c4491dd"
      },
      "execution_count": 8,
      "outputs": [
        {
          "output_type": "stream",
          "name": "stdout",
          "text": [
            "Ganaste 0\n",
            "Perdiste 1\n"
          ]
        }
      ]
    }
  ]
}