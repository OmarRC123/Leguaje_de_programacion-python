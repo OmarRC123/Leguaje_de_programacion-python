{
  "nbformat": 4,
  "nbformat_minor": 0,
  "metadata": {
    "colab": {
      "provenance": [],
      "authorship_tag": "ABX9TyOdB3xLjd3sdw7emy1TzIYb",
      "include_colab_link": true
    },
    "kernelspec": {
      "name": "python3",
      "display_name": "Python 3"
    },
    "language_info": {
      "name": "python"
    }
  },
  "cells": [
    {
      "cell_type": "markdown",
      "metadata": {
        "id": "view-in-github",
        "colab_type": "text"
      },
      "source": [
        "<a href=\"https://colab.research.google.com/github/OmarRC123/Lenguaje_de_programacion-python/blob/main/Actividad_9.ipynb\" target=\"_parent\"><img src=\"https://colab.research.google.com/assets/colab-badge.svg\" alt=\"Open In Colab\"/></a>"
      ]
    },
    {
      "cell_type": "markdown",
      "source": [
        "# Actividad 9\n",
        "\n",
        "Robles Carrasco Omar\n",
        "\n",
        "372304\n",
        "\n",
        "Grupo 432"
      ],
      "metadata": {
        "id": "8eVV4NPHa__Q"
      }
    },
    {
      "cell_type": "code",
      "execution_count": 22,
      "metadata": {
        "id": "i18vqqMca-ZL"
      },
      "outputs": [],
      "source": [
        "import random\n",
        "from IPython.display import clear_output"
      ]
    },
    {
      "cell_type": "code",
      "source": [
        "def GeneraDic():\n",
        "  apellido = [\"Robles\", \"Carrasco\", \"Marin\", \"Nunez\", \"Yepiz\", \"Reyes\", \"Ramirez\", \"Ozuna\", \"Osuna\", \"Ochoa\", \"Parra\", \"Khalifa\", \"Malkova\", \"Monjaraz\", \"Valdez\", \"Guzman\", \"Cazares\", \"Romero\", \"Herrera\", \"Bonilla\"]\n",
        "  nom_hombres = [\"Omar\", \"Hugo\", \"Oliver\", \"Liam\", \"Julio\", \"Tony\", \"Miguel\", \"Angel\", \"Enrique\", \"Luis\", \"Aaron\", \"Kevin\", \"Aldo\", \"Daniel\", \"Hector\", \"Fernando\", \"Goku\", \"Brayan\", \"Jeremias\", \"Jeremias\"]\n",
        "  nom_mujeres = [\"Maria\", \"Laura\", \"Josefa\", \"Isabel\", \"Ana\", \"Marta\", \"Cristina\", \"Lucia\", \"Flor\", \"Karyna\", \"Sara\", \"Julia\", \"Alba\", \"Silvia\", \"Monica\", \"Alicia\", \"Diana\", \"Susana\", \"Natalia\", \"Sofia\"]\n",
        "  dic = {\"id\": \"\",\"nombre\": \"\", \"appat\": \"\", \"apmat\": \"\", \"sexo\": \"\", \"edad\": \"\"}\n",
        "  dic[\"id\"] = random.randint(300000, 399999)\n",
        "  dic[\"edad\"] = random.randint(10, 80)\n",
        "  nombre = random.randint(0,100)\n",
        "  sexo = random.randint(0,100)\n",
        "  if sexo%2 != 0:\n",
        "    if nombre%2 ==0:\n",
        "      dic[\"nombre\"] = random.choices(nom_hombres, k=2)\n",
        "      dic[\"sexo\"] = \"Hombre\"\n",
        "    else:\n",
        "      dic[\"nombre\"] = random.choice(nom_hombres)\n",
        "      dic[\"sexo\"] = \"Hombre\"\n",
        "  else:\n",
        "    if nombre%2 ==0:\n",
        "      dic[\"nombre\"] = random.choices(nom_mujeres, k=2)\n",
        "      dic[\"sexo\"] = \"Mujer\"\n",
        "    else:\n",
        "      dic[\"nombre\"] = random.choice(nom_mujeres)\n",
        "      dic[\"sexo\"] = \"Mujer\"\n",
        "  dic[\"appat\"] = random.choice(apellido)\n",
        "  dic[\"apmat\"] = random.choice(apellido)\n",
        "  return dic"
      ],
      "metadata": {
        "id": "fx_NreL6bLE_"
      },
      "execution_count": 17,
      "outputs": []
    },
    {
      "cell_type": "code",
      "source": [
        "def imprimedic():\n",
        "  diccionario = GeneraDic()\n",
        "  print(diccionario)"
      ],
      "metadata": {
        "id": "cLPB1EILiZMk"
      },
      "execution_count": 12,
      "outputs": []
    },
    {
      "cell_type": "code",
      "source": [
        "op = 1\n",
        "while(op != 0):\n",
        "  print(\"      MENU      \")\n",
        "  print(\" \")\n",
        "  print(\"1) Generar diccionario aleatorio \\n2) Imprimir diccionario \\n0)Salir \\n\\nSeleccione la opcion que desee\")\n",
        "  try:\n",
        "    op = int(input(\"\"))\n",
        "  except ValueError:\n",
        "    print(\"Error, debe de ser un numero\")\n",
        "  else:\n",
        "    if op == 1:\n",
        "      GeneraDic()\n",
        "    elif op == 2:\n",
        "      imprimedic()\n",
        "    elif op == 0:\n",
        "      clear_output()\n",
        "      break;\n",
        "    else:\n",
        "      print(\"Seleccione una opcion correcta\")\n",
        "\n"
      ],
      "metadata": {
        "id": "fPO8mzTNjDlW"
      },
      "execution_count": 26,
      "outputs": []
    }
  ]
}