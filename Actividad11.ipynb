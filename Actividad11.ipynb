{
  "cells": [
    {
      "cell_type": "markdown",
      "metadata": {
        "id": "view-in-github",
        "colab_type": "text"
      },
      "source": [
        "<a href=\"https://colab.research.google.com/github/OmarRC123/Lenguaje_de_programacion-python/blob/main/Actividad11.ipynb\" target=\"_parent\"><img src=\"https://colab.research.google.com/assets/colab-badge.svg\" alt=\"Open In Colab\"/></a>"
      ]
    },
    {
      "cell_type": "markdown",
      "metadata": {
        "id": "hSWIKPWlVbF1"
      },
      "source": [
        "\n",
        "\n",
        "#Actividad 11\n",
        "\n",
        "Robles Carrasco Omar 372304"
      ]
    },
    {
      "cell_type": "markdown",
      "metadata": {
        "id": "XsFbZl6qVkfq"
      },
      "source": [
        " REALIZA UN PROGRAMA QUE UTILICE UNA LISTA DE DICCIONARIOS\n",
        "\n",
        "\n",
        "\n"
      ]
    },
    {
      "cell_type": "code",
      "execution_count": null,
      "metadata": {
        "id": "2c1iIc5G3ElY"
      },
      "outputs": [],
      "source": [
        "from IPython.display import clear_output\n",
        "import re\n",
        "import pandas as pd\n",
        "import random\n",
        "import time\n",
        "import sys\n",
        "import os"
      ]
    },
    {
      "cell_type": "code",
      "source": [
        "# INSTALAR  pyyaml\n",
        "!pip install pyyaml"
      ],
      "metadata": {
        "colab": {
          "base_uri": "https://localhost:8080/"
        },
        "id": "UWUOsYlt1DRv",
        "outputId": "2cc2b104-dad0-4203-8383-421d1dabface"
      },
      "execution_count": null,
      "outputs": [
        {
          "output_type": "stream",
          "name": "stdout",
          "text": [
            "Requirement already satisfied: pyyaml in /usr/local/lib/python3.10/dist-packages (6.0.1)\n"
          ]
        }
      ]
    },
    {
      "cell_type": "code",
      "source": [
        "# MONTAR DRIVE DE GOOGLE\n",
        "from google.colab import drive\n",
        "drive.mount('/content/drive')"
      ],
      "metadata": {
        "colab": {
          "base_uri": "https://localhost:8080/"
        },
        "id": "DDROxPUW1G9O",
        "outputId": "55bd4295-780f-436a-b618-134912824a59"
      },
      "execution_count": null,
      "outputs": [
        {
          "output_type": "stream",
          "name": "stdout",
          "text": [
            "Mounted at /content/drive\n"
          ]
        }
      ]
    },
    {
      "cell_type": "code",
      "source": [
        "ruta = \"/content/drive/MyDrive/proyecto\"\n",
        "sys.path.append(ruta)\n",
        "path = \"/content/drive/MyDrive/proyecto\""
      ],
      "metadata": {
        "id": "zg0rVMla1VQm"
      },
      "execution_count": null,
      "outputs": []
    },
    {
      "cell_type": "code",
      "source": [
        "def vali_cadena(msg):\n",
        "    salida = 1\n",
        "    while(salida == 1):\n",
        "            try:\n",
        "                patron = \"^[a-zA-ZñÑ\\s]+$\"\n",
        "                cadena = input(msg)\n",
        "                if re.match(patron, cadena):\n",
        "                    return cadena\n",
        "                    salida = 0\n",
        "                else:\n",
        "                    salida = 1\n",
        "            except ValueError:\n",
        "                print(\"Error, intenta de nuevo\")"
      ],
      "metadata": {
        "id": "ySyE5C_3qzJJ"
      },
      "execution_count": null,
      "outputs": []
    },
    {
      "cell_type": "code",
      "execution_count": null,
      "metadata": {
        "id": "NbihCaRHTEqH"
      },
      "outputs": [],
      "source": [
        "def vali_num(ri,rf,msg):\n",
        "    salida = 1\n",
        "    while(salida == 1):\n",
        "            try:\n",
        "                n = input(f\"{msg}\")\n",
        "                n_entero = int(n)\n",
        "                if int(n):\n",
        "                    if(n_entero >= ri and n_entero <= rf):\n",
        "                        salida = 0\n",
        "                        return n_entero\n",
        "                    else:\n",
        "                        salida = 1\n",
        "            except ValueError:\n",
        "                print(\"Error, intenta de nuevo\")"
      ]
    },
    {
      "cell_type": "code",
      "execution_count": null,
      "metadata": {
        "id": "zpa3g3xxTky0"
      },
      "outputs": [],
      "source": [
        "def ordenar(lista,clave):\n",
        "    for i in range(len(lista) // 2):\n",
        "        if lista[i][clave] > lista[len(lista) - 1 - i][clave]:\n",
        "            return False\n",
        "    return True"
      ]
    },
    {
      "cell_type": "code",
      "source": [
        "def noidrepetidos(lista, empleado):\n",
        "    if not any(e[\"Id\"] == empleado[\"Id\"] for e in lista):\n",
        "        lista.append(empleado)\n",
        "    else:\n",
        "        print(\"ID repetido\")"
      ],
      "metadata": {
        "id": "oBOXzM78HRkc"
      },
      "execution_count": null,
      "outputs": []
    },
    {
      "cell_type": "code",
      "source": [
        "def mi_funcion():\n",
        "    global name1\n",
        "    global name2\n",
        "    global name3\n",
        "    global name4\n",
        "    global data_excel\n",
        "    global data_markdown\n",
        "    global data_txt\n",
        "    global data_csv\n"
      ],
      "metadata": {
        "id": "d0YCNSidEeYN"
      },
      "execution_count": 29,
      "outputs": []
    },
    {
      "cell_type": "code",
      "source": [
        "def imprimearchi(registros):\n",
        "    op = vali_num(1,3,\"En cual tipo de archivo deseas escribir\")\n",
        "    if op == 1:\n",
        "        print(data_excel)\n",
        "    elif op == 2:\n",
        "        print(data_txt)\n",
        "    elif op == 3:\n",
        "        print(data_csv)\n",
        "    elif op == 4:\n",
        "        print(data_markdown)"
      ],
      "metadata": {
        "id": "pXTvr5YRI7l6"
      },
      "execution_count": 45,
      "outputs": []
    },
    {
      "cell_type": "code",
      "source": [
        "def accion8(registros):\n",
        "    data = pd.DataFrame(registros)\n",
        "    path = \"/content/drive/MyDrive/proyecto/\"\n",
        "    op = vali_num(1,3,\"En que tipo de archivo quieres escribir? \")\n",
        "    if op == 1:\n",
        "        path = path + name1\n",
        "        data.to_excel(path, index=False)\n",
        "    elif op == 2:\n",
        "        path = path + name2\n",
        "        data.to_txt(path, index=False)\n",
        "    elif op == 3:\n",
        "        path = path + name3\n",
        "        data.to_csv(path, index=False)\n",
        "    elif op == 4:\n",
        "        path = path + name4\n",
        "        data.to_markdown(path, index=False)\n"
      ],
      "metadata": {
        "id": "ItYox3Te_PKg"
      },
      "execution_count": 46,
      "outputs": []
    },
    {
      "cell_type": "code",
      "source": [
        "def creaarchi():\n",
        "    print(\"a - Archivo XSXL\",\"b - Archivo TXT\",\"c - Archivo CSV\",\"d - Archivo MARK DOWN\")\n",
        "    op = vali_num(1,3,\"Que archivo quieres generar? \")\n",
        "    if op == 1:\n",
        "        print(\"Creacion de archivo XSXL\")\n",
        "        name1 = input(\"Ingrese el nombre que desea: \")\n",
        "        name1 = name1 + \".xlsx\"\n",
        "        with open(os.path.join(path, name1), \"w\") as file:\n",
        "            pass\n",
        "    elif op == 2:\n",
        "        print(\"Creacion de archivo TXT\")\n",
        "        name2 = input(\"Ingrese el nombre que desea: \")\n",
        "        name2 = name2 + \".txt\"\n",
        "        name2 = input(\"Ingrese el nombre que desea: \")\n",
        "        with open(os.path.join(path, name2), \"w\") as file:\n",
        "            pass\n",
        "    elif op == 3:\n",
        "        print(\"Creacion de archivo CSV\")\n",
        "        filename = input(\"Ingrese el nombre que desea: \")\n",
        "        name3 = input(\"Ingrese el nombre que desea: \")\n",
        "        name3 = name3 + \".csv\"\n",
        "        with open(os.path.join(path, name3), \"w\") as file:\n",
        "            pass\n",
        "    elif op == 4:\n",
        "        print(\"Creacion de archivo MARK DOWN\")\n",
        "        name4 = input(\"Ingrese el nombre que desea: \")\n",
        "        name4 = name4 + \".md\"\n",
        "        with open(os.path.join(path, name4), \"w\") as file:\n",
        "            pass\n"
      ],
      "metadata": {
        "id": "PMLO13fLx9Pm"
      },
      "execution_count": 47,
      "outputs": []
    },
    {
      "cell_type": "code",
      "execution_count": 48,
      "metadata": {
        "id": "_lONgr1lStge"
      },
      "outputs": [],
      "source": [
        "def ordenarid(registros):\n",
        "    clave = 'ID'\n",
        "    ordenada = ordenar(registros,clave)\n",
        "    if not ordenada:\n",
        "        registros = sorted(registros, key=lambda x: x['ID'])\n",
        "        print(\"La lista no estaba ordenada, se ha ordenado por 'ID'.\")\n",
        "        return registros\n",
        "    else:\n",
        "        print(\"La lista estaba ordenada por 'ID'.\")\n",
        "        return 0"
      ]
    },
    {
      "cell_type": "code",
      "source": [
        "def buscarape(registro):\n",
        "    empleados = []\n",
        "    ubicacion = 0\n",
        "    existe = 0\n",
        "    paterno = vali_cadena(\"Ingresa el apellido paterno: \")\n",
        "    for busqueda in registro:\n",
        "        if paterno in busqueda.values():\n",
        "            empleados.append(busqueda)\n",
        "            accion3(empleados)\n",
        "            existe = 1\n",
        "    if existe != 1:\n",
        "        print(f\"No encontró coicidencias con el apellido: {paterno}\")"
      ],
      "metadata": {
        "id": "JAbXSWx5oZ_0"
      },
      "execution_count": 49,
      "outputs": []
    },
    {
      "cell_type": "code",
      "execution_count": 50,
      "metadata": {
        "id": "g-ip5O9CAft_"
      },
      "outputs": [],
      "source": [
        "\n",
        "def buscarid(registro):\n",
        "    ubicacion = 0\n",
        "    salir = 0\n",
        "    print(\"Los ID deben de ir del 10000 a 19999\")\n",
        "    id = vali_num(10000,19999,\"Ingresa el ID: \")\n",
        "    for busqueda in registro:\n",
        "        if id in busqueda.values():\n",
        "            print(f\"Coincidencia con el id '{id}'\")\n",
        "            ubicacion = busqueda\n",
        "            salir = 1\n",
        "        if salir == 1:\n",
        "            return ubicacion\n",
        "            break\n",
        "    else:\n",
        "        print(f\"No hay nadie con el ID '{id}'\")\n"
      ]
    },
    {
      "cell_type": "code",
      "execution_count": 51,
      "metadata": {
        "id": "JimbZa-zbMAH"
      },
      "outputs": [],
      "source": [
        "def imprimir(dicc_list):\n",
        "    if len(dicc_list) >= 1:\n",
        "        salida=pd.DataFrame(dicc_list)\n",
        "        print(salida.to_string(index=False))\n",
        "    else:\n",
        "        print(\"El registro se encuentra vacio, intenta de nuevo\")"
      ]
    },
    {
      "cell_type": "code",
      "execution_count": 52,
      "metadata": {
        "id": "aD9Lp7sVfWcs"
      },
      "outputs": [],
      "source": [
        "def eliminarid(lista_registros):\n",
        "    if (len(lista_registros) > 0):\n",
        "        remover = buscarid(registros)\n",
        "        registros.remove(remover)\n",
        "    else:\n",
        "        print(\"No hay empleados registrados\")\n"
      ]
    },
    {
      "cell_type": "code",
      "execution_count": 53,
      "metadata": {
        "id": "_UEwXec1tnF0"
      },
      "outputs": [],
      "source": [
        "def geneauto():\n",
        "    id = random.randint(10000,19999)\n",
        "    sexo = random.randint(0, 100)\n",
        "    apellido = [\"Robles\", \"Carrasco\", \"Marin\", \"Nunez\", \"Yepiz\", \"Reyes\", \"Ramirez\", \"Ozuna\", \"Osuna\", \"Ochoa\", \"Parra\", \"Khalifa\", \"Malkova\", \"Monjaraz\", \"Valdez\", \"Guzman\", \"Cazares\", \"Romero\", \"Herrera\", \"Bonilla\"]\n",
        "    nom_hombres = [\"Omar\", \"Hugo\", \"Oliver\", \"Liam\", \"Julio\", \"Tony\", \"Miguel\", \"Angel\", \"Enrique\", \"Luis\", \"Aaron\", \"Kevin\", \"Aldo\", \"Daniel\", \"Hector\", \"Fernando\", \"Goku\", \"Brayan\", \"Jeremias\", \"Jeremias\"]\n",
        "    nom_mujeres = [\"Maria\", \"Laura\", \"Josefa\", \"Isabel\", \"Ana\", \"Marta\", \"Cristina\", \"Lucia\", \"Flor\", \"Karyna\", \"Sara\", \"Julia\", \"Alba\", \"Silvia\", \"Monica\", \"Alicia\", \"Diana\", \"Susana\", \"Natalia\", \"Sofia\"]\n",
        "    puesto = [ \"Instalador de máquinas\",\"Representante de servicio al cliente\",\"Técnico de servicio de campo\",\"Asociado de almacén\", \"Operación de tratamiento/ensamblaje\",\"Coordinador de producción\",\"Técnico soldador\",\"Gerente de operaciones\",\"Técnico de seguridad\",\"Inspector de control de calidad\"]\n",
        "    puesto = random.choice(puesto)\n",
        "    apellidop = random.choice(apellido)\n",
        "    apellidom = random.choice(apellido)\n",
        "    edad = random.randint(13, 90)\n",
        "\n",
        "    if sexo % 2 == 0:\n",
        "        nombre = random.choice(nom_hombres)\n",
        "    else:\n",
        "        nombre = random.choice(nom_mujeres)\n",
        "    regis = {'Id':id,'NOMBRE':nombre, 'PATERNO':apellidop, 'MATERNO': apellidom, 'PUESTO': puesto, 'EDAD':edad}\n",
        "    return regis"
      ]
    },
    {
      "cell_type": "code",
      "execution_count": 54,
      "metadata": {
        "id": "KZxuyoU1mdYG",
        "colab": {
          "base_uri": "https://localhost:8080/",
          "height": 0
        },
        "outputId": "b61e67d2-c3e2-4aad-c736-fa63499304c8"
      },
      "outputs": [
        {
          "name": "stdout",
          "output_type": "stream",
          "text": [
            "MENU\n",
            "1. - Agregar automaticamente\n",
            "2. - Eliminar\n",
            "3. - Imprimir lista\n",
            "4. - Buscar por ID\n",
            "5. - Buscar por apellido paterno\n",
            "6. - Ordenar\n",
            "7. - Generar archivo\n",
            "8. - Cargar archivo\n",
            "9. - Imprimir archivo\n",
            "10. - Borrar toda la lista\n",
            "11. - Salir\n",
            "Que deseas realizar: 11\n"
          ]
        }
      ],
      "source": [
        "registros = []\n",
        "op = 5\n",
        "while(op != 0 ):\n",
        "    print(\"MENU\")\n",
        "    print(\"1. - Agregar automaticamente\")\n",
        "    print(\"2. - Eliminar\")\n",
        "    print(\"3. - Imprimir lista\")\n",
        "    print(\"4. - Buscar por ID\")\n",
        "    print(\"5. - Buscar por apellido paterno\")\n",
        "    print(\"6. - Ordenar\")\n",
        "    print(\"7. - Generar archivo\")\n",
        "    print(\"8. - Cargar archivo\")\n",
        "    print(\"9. - Imprimir archivo\")\n",
        "    print(\"10. - Borrar toda la lista\")\n",
        "    print(\"11. - Salir\")\n",
        "    op = vali_num(0,11,\"Que deseas realizar: \")\n",
        "    if op == 1:\n",
        "        for i in range(10):\n",
        "            registro = geneauto()\n",
        "            noidrepetidos(registros,registro)\n",
        "        print(\"Se a añadido 10 empleados automaticamente!\")\n",
        "    elif op == 2:\n",
        "        print(\"1 - Si\",\"2 - No\")\n",
        "        elimi = vali_num(1,2,\"Deseas eliminar?\")\n",
        "        if elimi == 1:\n",
        "            eliminarid(registros)\n",
        "        else:\n",
        "            print(\"Elegiste no borrar\")\n",
        "    elif op == 3:\n",
        "        imprimir(registros)\n",
        "    elif op == 4:\n",
        "        print(buscarid(registros))\n",
        "    elif op == 5:\n",
        "        buscarape(registros)\n",
        "    elif op == 6:\n",
        "        aux = ordenarid(registros)\n",
        "        if aux != 0:\n",
        "            registros = aux\n",
        "    elif op == 7:\n",
        "        creaarchi()\n",
        "    elif op == 8:\n",
        "        accion8(registros)\n",
        "    elif op == 9:\n",
        "        imprimearchi(registros)\n",
        "    elif op ==10:\n",
        "      salida = []\n",
        "      print(\"Los datos han sido eliminados\")\n",
        "    elif op == 11:\n",
        "        break\n",
        "\n",
        "    input(\"Presione ENTER \")\n",
        "    clear_output()\n"
      ]
    }
  ],
  "metadata": {
    "colab": {
      "provenance": [],
      "include_colab_link": true
    },
    "kernelspec": {
      "display_name": "Python 3",
      "name": "python3"
    },
    "language_info": {
      "name": "python"
    }
  },
  "nbformat": 4,
  "nbformat_minor": 0
}