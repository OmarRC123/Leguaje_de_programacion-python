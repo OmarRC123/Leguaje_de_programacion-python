{
  "nbformat": 4,
  "nbformat_minor": 0,
  "metadata": {
    "colab": {
      "provenance": [],
      "authorship_tag": "ABX9TyOXxGi4nENXvq1oSvD8O+t4",
      "include_colab_link": true
    },
    "kernelspec": {
      "name": "python3",
      "display_name": "Python 3"
    },
    "language_info": {
      "name": "python"
    }
  },
  "cells": [
    {
      "cell_type": "markdown",
      "metadata": {
        "id": "view-in-github",
        "colab_type": "text"
      },
      "source": [
        "<a href=\"https://colab.research.google.com/github/OmarRC123/Lenguaje_de_programacion-python/blob/main/Pregunta_23.ipynb\" target=\"_parent\"><img src=\"https://colab.research.google.com/assets/colab-badge.svg\" alt=\"Open In Colab\"/></a>"
      ]
    },
    {
      "cell_type": "code",
      "source": [
        "def areatriangulo():\n",
        "  try:\n",
        "    base = float(input(\"Dame la base del triangulo: \"))\n",
        "    altura = float(input(\"Dame la altura del triangulo: \"))\n",
        "  except:\n",
        "    print(\"Error\")\n",
        "  else:\n",
        "    area = (base*altura)/2\n",
        "  return area"
      ],
      "metadata": {
        "id": "TCqb8tbgI-ZI"
      },
      "execution_count": 3,
      "outputs": []
    },
    {
      "cell_type": "code",
      "source": [
        "print(\"Vamos a calcular el area de un traingulo\")\n",
        "area = areatriangulo()\n",
        "print(f\"El area del triangulo es: {area}\")"
      ],
      "metadata": {
        "colab": {
          "base_uri": "https://localhost:8080/"
        },
        "id": "2KW6X7S5J0Sd",
        "outputId": "7276ad8d-a43c-4c6a-dae7-af5c6d73e68f"
      },
      "execution_count": 5,
      "outputs": [
        {
          "output_type": "stream",
          "name": "stdout",
          "text": [
            "Vamos a calcular el area de un traingulo\n",
            "Dame la base del triangulo: 3\n",
            "Dame la altura del triangulo: 2\n",
            "El area del triangulo es: 3.0\n"
          ]
        }
      ]
    }
  ]
}