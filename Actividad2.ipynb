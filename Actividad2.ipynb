{
  "nbformat": 4,
  "nbformat_minor": 0,
  "metadata": {
    "colab": {
      "provenance": [],
      "authorship_tag": "ABX9TyMQaIF8W2e97mdNo3VuZEIs",
      "include_colab_link": true
    },
    "kernelspec": {
      "name": "python3",
      "display_name": "Python 3"
    },
    "language_info": {
      "name": "python"
    }
  },
  "cells": [
    {
      "cell_type": "markdown",
      "metadata": {
        "id": "view-in-github",
        "colab_type": "text"
      },
      "source": [
        "<a href=\"https://colab.research.google.com/github/OmarRC123/Lenguaje_de_programacion-python/blob/main/Actividad2.ipynb\" target=\"_parent\"><img src=\"https://colab.research.google.com/assets/colab-badge.svg\" alt=\"Open In Colab\"/></a>"
      ]
    },
    {
      "cell_type": "markdown",
      "source": [
        "# Actividad 2\n",
        "### ESTRUCTURAS DE CONTROL DE SELECCIÓN SIMPLE"
      ],
      "metadata": {
        "id": "bL5fprkyPehQ"
      }
    },
    {
      "cell_type": "markdown",
      "source": [
        "## Ejercicio 1\n",
        "1.- Programa en Python que lea 2 números enteros, usar una condición y analizar los dos números y desplegar cual de los números es el mayor. 1\n",
        "\n"
      ],
      "metadata": {
        "id": "BwNXQOTEPwGa"
      }
    },
    {
      "cell_type": "code",
      "source": [
        "n1= int(input(\"Dame el valor del numero 1: \"))\n",
        "n2= int(input(\"Dame el valor del numero 2: \"))\n",
        "if (n1>n2):\n",
        "  print(f\"El mayor es {n1}\")\n",
        "if (n2>n1):\n",
        "  print(f\"El mayor es {n2}\")\n"
      ],
      "metadata": {
        "colab": {
          "base_uri": "https://localhost:8080/"
        },
        "id": "etD6WGvMP4Nk",
        "outputId": "127263da-229a-4129-93ba-39c95a370775"
      },
      "execution_count": 3,
      "outputs": [
        {
          "output_type": "stream",
          "name": "stdout",
          "text": [
            "Dame el valor del numero 1: 23\n",
            "Dame el valor del numero 2: 212\n",
            "El mayor es 212\n"
          ]
        }
      ]
    },
    {
      "cell_type": "markdown",
      "source": [
        "## Ejercicio 2\n",
        "2.- Programa en PythonAlgoritmo que lea 4 calificaciones de un alumno, calcular y desplegar el promedio acompañado de la leyenda \"APROBADO\" o \"REPROBADO\""
      ],
      "metadata": {
        "id": "YmV-JgBvQuXV"
      }
    },
    {
      "cell_type": "code",
      "source": [
        "calif1= float(input(\"Dame la calificacion 1: \"))\n",
        "calif2= float(input(\"Dame la calificacion 2: \"))\n",
        "calif3= float(input(\"Dame la calificacion 3: \"))\n",
        "calif4= float(input(\"Dame la calificacion 4: \"))\n",
        "prom= (calif1+calif2+calif3+calif4)/4\n",
        "if (prom>=60):\n",
        "  print(f\"Tu promedio es de {prom} y estas aprobado\")\n",
        "if (prom<60):\n",
        "  print(f\"Tu promedio es de {prom} y estas reprobado\")"
      ],
      "metadata": {
        "colab": {
          "base_uri": "https://localhost:8080/"
        },
        "id": "J6-AAzK8RVvc",
        "outputId": "173e541d-aea5-4b70-dd1d-8b14ab616c92"
      },
      "execution_count": 4,
      "outputs": [
        {
          "output_type": "stream",
          "name": "stdout",
          "text": [
            "Dame la calificacion 1: 100\n",
            "Dame la calificacion 2: 20\n",
            "Dame la calificacion 3: 70\n",
            "Dame la calificacion 4: 85\n",
            "Tu promedio es de 68.75 y estas aprobado\n"
          ]
        }
      ]
    },
    {
      "cell_type": "markdown",
      "source": [
        "## Ejercicio 3\n",
        "3.- Programa en PythonAlgoritmo que a través de opciones (1.- HOMBRE 2.- MUJER ) preguntar al usuario cual es su sexo y desplegar la leyenda “HOMBRE ”, “MUJER”"
      ],
      "metadata": {
        "id": "cGhSHieESlvC"
      }
    },
    {
      "cell_type": "code",
      "source": [
        "sexo= int(input(\"Cual es tu sexo, presiona 1 si eres hombre o presiona 2 si eres mujer: \"))\n",
        "if (sexo == 1):\n",
        "  print(\"Eres hombre\")\n",
        "if (sexo == 2):\n",
        "  print(\"Eres mujer\")"
      ],
      "metadata": {
        "colab": {
          "base_uri": "https://localhost:8080/"
        },
        "id": "M3h8ixNXTMC4",
        "outputId": "313e38f6-e561-4265-ef59-be6172e88e04"
      },
      "execution_count": 7,
      "outputs": [
        {
          "output_type": "stream",
          "name": "stdout",
          "text": [
            "Cual es tu sexo, presiona 1 si eres hombre o presiona 2 si eres mujer: 1\n",
            "Eres hombre\n"
          ]
        }
      ]
    },
    {
      "cell_type": "markdown",
      "source": [
        "## Ejercicio 4\n",
        "4.- Programa en Python que lea un número entero, y desplegar si el número es “PAR” o “IMPAR”\n"
      ],
      "metadata": {
        "id": "WU4U7nTCUwld"
      }
    },
    {
      "cell_type": "code",
      "source": [
        "num1= int(input(\"Dame un numero entero y te dire si es par o impar: \"))\n",
        "if (num1%2 == 0):\n",
        "    print(\"Es par\")\n",
        "if (num1%2 != 0):\n",
        "    print(\"Es impar\")"
      ],
      "metadata": {
        "colab": {
          "base_uri": "https://localhost:8080/"
        },
        "id": "pu2IE4JZU2My",
        "outputId": "780ce378-926f-4a59-a097-e9cb9bd63768"
      },
      "execution_count": 13,
      "outputs": [
        {
          "output_type": "stream",
          "name": "stdout",
          "text": [
            "Dame un numero entero y te dire si es par o impar: 23\n",
            "Es impar\n"
          ]
        }
      ]
    },
    {
      "cell_type": "markdown",
      "source": [
        "## Ejercicio 5\n",
        "5.- Programa en Python que lea 2 números enteros, usar una condición y analizar los dos números y desplegar cual de los números es el mayor."
      ],
      "metadata": {
        "id": "2G6u67w2WYYh"
      }
    },
    {
      "cell_type": "code",
      "source": [
        "n1= int(input(\"Dame el valor del numero 1: \"))\n",
        "n2= int(input(\"Dame el valor del numero 2: \"))\n",
        "if (n1>n2):\n",
        "  print(f\"El mayor es {n1}\")\n",
        "else:\n",
        "  print(f\"El mayor es {n2}\")"
      ],
      "metadata": {
        "colab": {
          "base_uri": "https://localhost:8080/"
        },
        "id": "n6Wps5m4WcWq",
        "outputId": "acf2e4f9-cfdf-4d01-9f49-a6a085b39e1b"
      },
      "execution_count": 14,
      "outputs": [
        {
          "output_type": "stream",
          "name": "stdout",
          "text": [
            "Dame el valor del numero 1: 3\n",
            "Dame el valor del numero 2: 6\n",
            "El mayor es 6\n"
          ]
        }
      ]
    },
    {
      "cell_type": "markdown",
      "source": [
        "## Ejercicio 6\n",
        "6.- Programa en PythonAlgoritmo que lea 4 calificaciones de un alumno, calcular y desplegar el promedio acompañado de la leyenda \"APROBADO\" o \"REPROBADO\""
      ],
      "metadata": {
        "id": "vMd2HU9VW48C"
      }
    },
    {
      "cell_type": "code",
      "source": [
        "calif1= float(input(\"Dame la calificacion 1: \"))\n",
        "calif2= float(input(\"Dame la calificacion 2: \"))\n",
        "calif3= float(input(\"Dame la calificacion 3: \"))\n",
        "calif4= float(input(\"Dame la calificacion 4: \"))\n",
        "prom= (calif1+calif2+calif3+calif4)/4\n",
        "if (prom>=60):\n",
        "  print(f\"Tu promedio es de {prom} y estas aprobado\")\n",
        "else:\n",
        "  print(f\"Tu promedio es de {prom} y estas reprobado\")"
      ],
      "metadata": {
        "colab": {
          "base_uri": "https://localhost:8080/"
        },
        "id": "pmqAf3leW-hO",
        "outputId": "14befa9e-f586-4b4e-b415-94be5e3d4ad3"
      },
      "execution_count": 15,
      "outputs": [
        {
          "output_type": "stream",
          "name": "stdout",
          "text": [
            "Dame la calificacion 1: 50\n",
            "Dame la calificacion 2: 23\n",
            "Dame la calificacion 3: 32\n",
            "Dame la calificacion 4: 51\n",
            "Tu promedio es de 39.0 y estas reprobado\n"
          ]
        }
      ]
    },
    {
      "cell_type": "markdown",
      "source": [
        "## Ejercicio 7\n",
        "7.- Programa en PythonAlgoritmo que a través de opciones (1.- HOMBRE 2.- MUJER ) preguntar al usuario cual es su sexo y desplegar la leyenda “HOMBRE ”, “MUJER”"
      ],
      "metadata": {
        "id": "0b-pZkJwXK0S"
      }
    },
    {
      "cell_type": "code",
      "source": [
        "sexo= int(input(\"Cual es tu sexo, presiona 1 si eres hombre o presiona 2 si eres mujer: \"))\n",
        "if (sexo == 1):\n",
        "  print(\"Eres hombre\")\n",
        "else:\n",
        "  print(\"Eres mujer\")"
      ],
      "metadata": {
        "colab": {
          "base_uri": "https://localhost:8080/"
        },
        "id": "NoV6UR5gXNSM",
        "outputId": "6a27500b-0cbe-4e74-bab7-92da7084bfb5"
      },
      "execution_count": 16,
      "outputs": [
        {
          "output_type": "stream",
          "name": "stdout",
          "text": [
            "Cual es tu sexo, presiona 1 si eres hombre o presiona 2 si eres mujer: 2\n",
            "Eres mujer\n"
          ]
        }
      ]
    },
    {
      "cell_type": "markdown",
      "source": [
        "## Ejercicio 8\n",
        "8.- Programa en Python que lea un número entero, y desplegar si el número es “PAR” o “IMPAR”"
      ],
      "metadata": {
        "id": "Fn0YBEUpXXul"
      }
    },
    {
      "cell_type": "code",
      "source": [
        "num1= int(input(\"Dame un numero entero y te dire si es par o impar: \"))\n",
        "if (num1%2 == 0):\n",
        "    print(\"Es par\")\n",
        "else:\n",
        "    print(\"Es impar\")"
      ],
      "metadata": {
        "colab": {
          "base_uri": "https://localhost:8080/"
        },
        "id": "09jTDm-MXpcE",
        "outputId": "f901ac3f-de8a-4092-c8b8-02fead91cd19"
      },
      "execution_count": 17,
      "outputs": [
        {
          "output_type": "stream",
          "name": "stdout",
          "text": [
            "Dame un numero entero y te dire si es par o impar: 13\n",
            "Es impar\n"
          ]
        }
      ]
    }
  ]
}