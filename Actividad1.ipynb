{
  "nbformat": 4,
  "nbformat_minor": 0,
  "metadata": {
    "colab": {
      "provenance": [],
      "authorship_tag": "ABX9TyNUiaO3UzMR6Yo79FUzCxKv",
      "include_colab_link": true
    },
    "kernelspec": {
      "name": "python3",
      "display_name": "Python 3"
    },
    "language_info": {
      "name": "python"
    }
  },
  "cells": [
    {
      "cell_type": "markdown",
      "metadata": {
        "id": "view-in-github",
        "colab_type": "text"
      },
      "source": [
        "<a href=\"https://colab.research.google.com/github/OmarRC123/Lenguaje_de_programacion-python/blob/main/Actividad1.ipynb\" target=\"_parent\"><img src=\"https://colab.research.google.com/assets/colab-badge.svg\" alt=\"Open In Colab\"/></a>"
      ]
    },
    {
      "cell_type": "markdown",
      "source": [
        "# Ejercicio 1\n",
        "1.- Programa en Python Mostrar un mensaje que diga “HOLA MUNDO” en un solo renglón usando 2 print"
      ],
      "metadata": {
        "id": "eettaxW1KY7G"
      }
    },
    {
      "cell_type": "code",
      "source": [
        "print (\"Hola\", end=\" \")\n",
        "print (\"Mundo\")"
      ],
      "metadata": {
        "colab": {
          "base_uri": "https://localhost:8080/"
        },
        "id": "mNCol966KrQI",
        "outputId": "bb4a8472-babb-4a3f-c1e2-264535bb67e7"
      },
      "execution_count": 1,
      "outputs": [
        {
          "output_type": "stream",
          "name": "stdout",
          "text": [
            "Hola Mundo\n"
          ]
        }
      ]
    },
    {
      "cell_type": "markdown",
      "source": [
        "# Ejercicio 2\n",
        "2.- Programa en Python que lea 2 números, realizar la suma y desplegar la suma de los 2 números"
      ],
      "metadata": {
        "id": "MC74XMhHKqOJ"
      }
    },
    {
      "cell_type": "code",
      "source": [
        "num1= float(input(\"Dame el primer numero: \"))\n",
        "num2= float(input(\"Dame el segundo numero: \"))\n",
        "suma= num1+num2\n",
        "print(f\"La suma de los numeros es: {suma}\")"
      ],
      "metadata": {
        "colab": {
          "base_uri": "https://localhost:8080/"
        },
        "id": "MF5v9Zk8LAS6",
        "outputId": "84fae148-67da-4bb9-ce1f-e6386eac54b6"
      },
      "execution_count": 6,
      "outputs": [
        {
          "output_type": "stream",
          "name": "stdout",
          "text": [
            "Dame el primer numero: 4213412.312424\n",
            "Dame el segundo numero: 1242145.22\n",
            "La suma de los numeros es: 5455557.532424\n"
          ]
        }
      ]
    },
    {
      "cell_type": "markdown",
      "source": [
        "# Ejercicio 3\n",
        "3.- Programa en Python que lea 2 números y realice las 4 operaciones básicas"
      ],
      "metadata": {
        "id": "mmKsyS1TLpmx"
      }
    },
    {
      "cell_type": "code",
      "source": [
        "num3= float(input(\"Dame el primer numero: \"))\n",
        "num4= float(input(\"Dame el segundo numero: \"))\n",
        "suma= num3+num4\n",
        "resta= num3-num4\n",
        "divi= num3/num4\n",
        "multi= num3*num4\n",
        "print(f\"La suma de los numeros es: {suma}\")\n",
        "print(f\"La resta de los numeros es: {resta}\")\n",
        "print(f\"La division de los numeros es: {divi}\")\n",
        "print(f\"La multiplicacion de los numeros es: {multi}\")"
      ],
      "metadata": {
        "colab": {
          "base_uri": "https://localhost:8080/"
        },
        "id": "bmc3LDubL2Bo",
        "outputId": "252d18ff-9e81-413d-def1-dd75f84b1296"
      },
      "execution_count": 8,
      "outputs": [
        {
          "output_type": "stream",
          "name": "stdout",
          "text": [
            "Dame el primer numero: 2\n",
            "Dame el segundo numero: 2\n",
            "La suma de los numeros es: 4.0\n",
            "La resta de los numeros es: 0.0\n",
            "La division de los numeros es: 1.0\n",
            "La multiplicacion de los numeros es: 4.0\n"
          ]
        }
      ]
    },
    {
      "cell_type": "markdown",
      "source": [
        "# Ejercicio 4\n",
        "4.- Programa en Python Que sirva para calcular el área de un triángulo"
      ],
      "metadata": {
        "id": "TiwD30scMao5"
      }
    },
    {
      "cell_type": "code",
      "source": [
        "base= float(input(\"Dame el valor de la base \"))\n",
        "altura= float(input(\"Dame el valor de la altura \"))\n",
        "area= base*altura/2\n",
        "print (f\"El area del triangulo es: {area}\")"
      ],
      "metadata": {
        "colab": {
          "base_uri": "https://localhost:8080/"
        },
        "id": "8NPnbHiuN_SZ",
        "outputId": "ba89614d-7d2e-4816-bb6c-5d42be3dde8a"
      },
      "execution_count": 10,
      "outputs": [
        {
          "output_type": "stream",
          "name": "stdout",
          "text": [
            "Dame el valor de la base 4\n",
            "Dame el valor de la altura 2\n",
            "El area del triangulo es: 4.0\n"
          ]
        }
      ]
    },
    {
      "cell_type": "markdown",
      "source": [
        "# Ejercicio 5\n",
        "5.- Programa en Python que lea una medida en centímetros y desplegar la misma medida pero convertida en pies y pulgadas"
      ],
      "metadata": {
        "id": "eUNcPmthOqPt"
      }
    },
    {
      "cell_type": "code",
      "source": [
        "centimetros= float(input(\"Que medida en centimetro tienes: \"))\n",
        "pies= centimetros*0.0328084\n",
        "pulgadas= centimetros*0.39370079\n",
        "print (f\"La medida en pies es: {pies}\")\n",
        "print (f\"La medida en pulgadas es: {pulgadas}\")"
      ],
      "metadata": {
        "colab": {
          "base_uri": "https://localhost:8080/"
        },
        "id": "2iNS6-ozO0A6",
        "outputId": "834ee19a-39a1-497b-dc48-3e6c3e1c3b03"
      },
      "execution_count": 11,
      "outputs": [
        {
          "output_type": "stream",
          "name": "stdout",
          "text": [
            "Que medida en centimetro tienes: 234\n",
            "La medida en pies es: 7.6771656\n",
            "La medida en pulgadas es: 92.12598486\n"
          ]
        }
      ]
    },
    {
      "cell_type": "markdown",
      "source": [
        "# Ejercicio 6\n",
        "6.- Programa en Python que lea una temperatura en grados centígrados y desplegarla en Grados Fahrenheit y grados kelvin"
      ],
      "metadata": {
        "id": "UzXBRkZuQIzv"
      }
    },
    {
      "cell_type": "code",
      "source": [
        "centigrados= float(input(\"Dame la temperatura en centigrados \"))\n",
        "kelvin= centigrados+273.15\n",
        "fahrenheit= (centigrados*1.8)+32\n",
        "print(f\"La temperatura en grados kelvin es: {kelvin}\")\n",
        "print(f\"La temperatura en grados fahrenheit es: {fahrenheit}\")"
      ],
      "metadata": {
        "colab": {
          "base_uri": "https://localhost:8080/"
        },
        "id": "Bnbn-EhyQL7F",
        "outputId": "da6b86e5-1148-449d-faa0-1529b80d3f83"
      },
      "execution_count": 13,
      "outputs": [
        {
          "output_type": "stream",
          "name": "stdout",
          "text": [
            "Dame la temperatura en centigrados 1\n",
            "La temperatura en grados kelvin es: 274.15\n",
            "La temperatura en grados fahrenheit es: 33.8\n"
          ]
        }
      ]
    },
    {
      "cell_type": "markdown",
      "source": [
        "# Ejercicio 7\n",
        "7.- Programa en Python que lea 4 calificaciones de un alumno, desplegar el promedio del alumno"
      ],
      "metadata": {
        "id": "Y3jUSmjuSw0r"
      }
    },
    {
      "cell_type": "code",
      "source": [
        "calif1= float(input(\"Dame la calificacion 1: \"))\n",
        "calif2= float(input(\"Dame la calificacion 2: \"))\n",
        "calif3= float(input(\"Dame la calificacion 3: \"))\n",
        "calif4= float(input(\"Dame la calificacion 4: \"))\n",
        "promedio= (calif1+calif2+calif3+calif4)/4\n",
        "print(f\"El promedio de las calificaciones es: {promedio}\")"
      ],
      "metadata": {
        "colab": {
          "base_uri": "https://localhost:8080/"
        },
        "id": "XqnnjwCWS1UQ",
        "outputId": "db36cae7-f98e-4a88-ac65-8f0c5dd4481e"
      },
      "execution_count": 17,
      "outputs": [
        {
          "output_type": "stream",
          "name": "stdout",
          "text": [
            "Dame la calificacion 1: 100\n",
            "Dame la calificacion 2: 60\n",
            "Dame la calificacion 3: 30\n",
            "Dame la calificacion 4: 70\n",
            "El promedio de las calificaciones es: 65.0\n"
          ]
        }
      ]
    }
  ]
}