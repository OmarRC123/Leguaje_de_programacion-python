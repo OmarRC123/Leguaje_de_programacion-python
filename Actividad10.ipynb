{
  "nbformat": 4,
  "nbformat_minor": 0,
  "metadata": {
    "colab": {
      "provenance": [],
      "authorship_tag": "ABX9TyMKgCYhEpwZvX6eCfQWWMAH",
      "include_colab_link": true
    },
    "kernelspec": {
      "name": "python3",
      "display_name": "Python 3"
    },
    "language_info": {
      "name": "python"
    }
  },
  "cells": [
    {
      "cell_type": "markdown",
      "metadata": {
        "id": "view-in-github",
        "colab_type": "text"
      },
      "source": [
        "<a href=\"https://colab.research.google.com/github/OmarRC123/Lenguaje_de_programacion-python/blob/main/Actividad10.ipynb\" target=\"_parent\"><img src=\"https://colab.research.google.com/assets/colab-badge.svg\" alt=\"Open In Colab\"/></a>"
      ]
    },
    {
      "cell_type": "markdown",
      "source": [
        "# Actividad 10\n",
        "\n",
        " REALIZA UN PROGRAMA QUE UTILICE UNA LISTA DE DICCIONARIOS\n",
        "\n",
        "\n",
        "\n",
        "MENU\n",
        "\n",
        "1.- Agregar (automatico)\n",
        " 2.- Agregar (manual)\n",
        " 3.- Imprimir lista\n",
        " 4.- Buscar {ID}\n",
        " 5.- Ordenar\n",
        " 6.- Eliminar {ID}\n",
        " 7.- Borrar Toda la lista {ID}\n",
        " 0.- SALIR\n",
        "\n",
        "\n",
        "\n",
        "NOTA: Los datos del diccionario son los Datos básicos de un trabajador de una fabrica."
      ],
      "metadata": {
        "id": "-be-uiCdy9CX"
      }
    },
    {
      "cell_type": "code",
      "execution_count": 94,
      "metadata": {
        "id": "N4Q3PJL5iZUD"
      },
      "outputs": [],
      "source": [
        "import random\n",
        "import numpy\n",
        "import pprint\n",
        "from IPython.display import clear_output\n",
        "import pandas as pd\n",
        "import time\n",
        "import re"
      ]
    },
    {
      "cell_type": "code",
      "source": [
        "def vali_cadena(msg):\n",
        "    salida = 1\n",
        "    while(salida == 1):\n",
        "            try:\n",
        "                patron = \"^[a-zA-ZñÑ\\s]+$\"\n",
        "                cadena = input(msg)\n",
        "                if re.match(patron, cadena):\n",
        "                    return cadena\n",
        "                    salida = 0\n",
        "                else:\n",
        "                    salida = 1\n",
        "            except ValueError:\n",
        "                print(\"Error, intenta de nuevo\")"
      ],
      "metadata": {
        "id": "ybSPXTMLghlb"
      },
      "execution_count": 95,
      "outputs": []
    },
    {
      "cell_type": "code",
      "source": [
        "def vali_num(ri,rf,msg):\n",
        "    salida = 1\n",
        "    while(salida == 1):\n",
        "            try:\n",
        "                n = input(f\"{msg}\")\n",
        "                n_entero = int(n)\n",
        "                if int(n):\n",
        "                    if(n_entero >= ri and n_entero <= rf):\n",
        "                        salida = 0\n",
        "                        return n_entero\n",
        "                    else:\n",
        "                        salida = 1\n",
        "            except ValueError:\n",
        "                print(\"Error, intenta de nuevo\")"
      ],
      "metadata": {
        "id": "3u86yTWughZk"
      },
      "execution_count": 96,
      "outputs": []
    },
    {
      "cell_type": "code",
      "source": [
        "def geneauto():\n",
        "    id = random.randint(10000,19999)\n",
        "    sexo = random.randint(0, 100)\n",
        "    apellido = [\"Robles\", \"Carrasco\", \"Marin\", \"Nunez\", \"Yepiz\", \"Reyes\", \"Ramirez\", \"Ozuna\", \"Osuna\", \"Ochoa\", \"Parra\", \"Khalifa\", \"Malkova\", \"Monjaraz\", \"Valdez\", \"Guzman\", \"Cazares\", \"Romero\", \"Herrera\", \"Bonilla\"]\n",
        "    nom_hombres = [\"Omar\", \"Hugo\", \"Oliver\", \"Liam\", \"Julio\", \"Tony\", \"Miguel\", \"Angel\", \"Enrique\", \"Luis\", \"Aaron\", \"Kevin\", \"Aldo\", \"Daniel\", \"Hector\", \"Fernando\", \"Goku\", \"Brayan\", \"Jeremias\", \"Jeremias\"]\n",
        "    nom_mujeres = [\"Maria\", \"Laura\", \"Josefa\", \"Isabel\", \"Ana\", \"Marta\", \"Cristina\", \"Lucia\", \"Flor\", \"Karyna\", \"Sara\", \"Julia\", \"Alba\", \"Silvia\", \"Monica\", \"Alicia\", \"Diana\", \"Susana\", \"Natalia\", \"Sofia\"]\n",
        "    puesto = [ \"Instalador de máquinas\",\"Representante de servicio al cliente\",\"Técnico de servicio de campo\",\"Asociado de almacén\", \"Operación de tratamiento/ensamblaje\",\"Coordinador de producción\",\"Técnico soldador\",\"Gerente de operaciones\",\"Técnico de seguridad\",\"Inspector de control de calidad\"]\n",
        "    puesto = random.choice(puesto)\n",
        "    apellidop = random.choice(apellido)\n",
        "    apellidom = random.choice(apellido)\n",
        "    edad = random.randint(13, 90)\n",
        "\n",
        "    if sexo % 2 == 0:\n",
        "        nombre = random.choice(nom_hombres)\n",
        "    else:\n",
        "        nombre = random.choice(nom_mujeres)\n",
        "    regis = {'Id':id,'NOMBRE':nombre, 'PATERNO':apellidop, 'MATERNO': apellidom, 'PUESTO': puesto, 'EDAD':edad}\n",
        "    return regis"
      ],
      "metadata": {
        "id": "F3uVT6tUOwK_"
      },
      "execution_count": 97,
      "outputs": []
    },
    {
      "cell_type": "code",
      "source": [
        "def genemanu():\n",
        "    print(\"Te recordamos que el NO° va de 10000 a 19999\")\n",
        "    id = vali_num(10000,19999,\"Ingresa el numero de trabajador: \")\n",
        "    nombre = vali_cadena(\"Nombre: \")\n",
        "    apellidop = vali_cadena(\"Ingresa el apellido paterno: \")\n",
        "    apellidom = vali_cadena(\"Ingresa el apellido materno: \")\n",
        "    edad = vali_num(18,80,\"Ingrese su edad: \")\n",
        "    puesto = vali_cadena(\"Ingresa el puesto al que te dedicas: \")\n",
        "    regis = {'Id':id,'NOMBRE':nombre, 'PATERNO':apellidop, 'MATERNO': apellidom, 'PUESTO': puesto, 'EDAD':edad}\n",
        "    return regis"
      ],
      "metadata": {
        "id": "zMMYpWifZsqX"
      },
      "execution_count": 98,
      "outputs": []
    },
    {
      "cell_type": "code",
      "source": [
        "def noidrepetidos(lista, empleado):\n",
        "    if not any(e[\"Id\"] == empleado[\"Id\"] for e in lista):\n",
        "        lista.append(empleado)\n",
        "    else:\n",
        "        print(\"ID repetido\")"
      ],
      "metadata": {
        "id": "xGW0ZvIhSmNj"
      },
      "execution_count": 99,
      "outputs": []
    },
    {
      "cell_type": "code",
      "source": [
        "def ordenar(lista,clave):\n",
        "    for i in range(len(lista) // 2):\n",
        "        if lista[i][clave] > lista[len(lista) - 1 - i][clave]:\n",
        "            return False\n",
        "    return True"
      ],
      "metadata": {
        "id": "BR5BgQHfRfmc"
      },
      "execution_count": 100,
      "outputs": []
    },
    {
      "cell_type": "code",
      "source": [
        "def imprimir(dicc_list):\n",
        "    if len(dicc_list) >= 1:\n",
        "        salida=pd.DataFrame(dicc_list)\n",
        "        print(salida.to_string(index=False))\n",
        "    else:\n",
        "        print(\"El registro se encuentra vacio, intenta de nuevo\")"
      ],
      "metadata": {
        "id": "NfJQJ_LhSkYt"
      },
      "execution_count": 101,
      "outputs": []
    },
    {
      "cell_type": "code",
      "source": [
        "def buscarid(registro):\n",
        "    ubicacion = 0\n",
        "    salir = 0\n",
        "    print(\"Los ID deben de ir del 10000 a 19999\")\n",
        "    id = vali_num(10000,19999,\"Ingresa el ID: \")\n",
        "    for busqueda in registro:\n",
        "        if id in busqueda.values():\n",
        "            print(f\"Coincidencia con el id '{id}'\")\n",
        "            ubicacion = busqueda\n",
        "            salir = 1\n",
        "        if salir == 1:\n",
        "            return ubicacion\n",
        "            break\n",
        "    else:\n",
        "        print(f\"No hay nadie con el ID '{id}'\")"
      ],
      "metadata": {
        "id": "Af4bVzFPjem_"
      },
      "execution_count": 102,
      "outputs": []
    },
    {
      "cell_type": "code",
      "source": [
        "def ordenarreg(registros):\n",
        "    clave = 'Id'\n",
        "    ordenada = ordenar(registros,clave)\n",
        "    if not ordenada:\n",
        "        registros = sorted(registros, key=lambda x: x['Id'])\n",
        "        print(\"Lista ordenada mediante ID\")\n",
        "        return registros\n",
        "    else:\n",
        "        print(\"La lista estaba ordenada por 'ID'.\")\n",
        "        return 0"
      ],
      "metadata": {
        "id": "1nKfGrSnjeh1"
      },
      "execution_count": 107,
      "outputs": []
    },
    {
      "cell_type": "code",
      "source": [
        "def eliminarid(lista_registros):\n",
        "    if (len(lista_registros) > 0):\n",
        "        remover = buscarid(registros)\n",
        "        registros.remove(remover)\n",
        "    else:\n",
        "        print(\"No hay empleados registrados\")\n"
      ],
      "metadata": {
        "id": "HxSe0WZujebu"
      },
      "execution_count": 109,
      "outputs": []
    },
    {
      "cell_type": "code",
      "source": [
        "def borrarlista(lista_registros):\n",
        "    lista_registros = lista_registros.clear()\n",
        "    print(\"Todos los registros han sido eliminados\")"
      ],
      "metadata": {
        "id": "TTHqZWTajd_5"
      },
      "execution_count": 110,
      "outputs": []
    },
    {
      "cell_type": "code",
      "source": [
        "registros = []\n",
        "while(True):\n",
        "    print(\"      MENU     \")\n",
        "    print(\"1. - Agregar (automatico)\")\n",
        "    print(\"2. - Agregar (manual)\")\n",
        "    print(\"3. - Imprimir\")\n",
        "    print(\"4. - Buscar ID \")\n",
        "    print(\"5. - Ordenar\")\n",
        "    print(\"6. - Eliminar ID\")\n",
        "    print(\"7. - Borrar todos los registros\")\n",
        "    print(\"0. - Salir\")\n",
        "    try:\n",
        "      op = int(input(\"Que desea realizar: \"))\n",
        "    except ValueError:\n",
        "      print(\"Error, seleccione una opcion valida\")\n",
        "    else:\n",
        "      if(op == 0):\n",
        "          break\n",
        "      elif(op == 1):\n",
        "          for i in range(10):\n",
        "              registro = geneauto()\n",
        "              noidrepetidos(registros,registro)\n",
        "          print(\"10 registros generados\")\n",
        "      elif(op == 2):\n",
        "          registro = genemanu()\n",
        "          noidrepetidos(registros,registro)\n",
        "      elif(op == 3):\n",
        "          imprimir(registros)\n",
        "      elif(op == 4):\n",
        "          print(buscarid(registros))\n",
        "      elif(op == 5):\n",
        "          aux = ordenarreg(registros)\n",
        "          if aux != 0:\n",
        "              registros = aux\n",
        "      elif(op == 6):\n",
        "          eliminarid(registros)\n",
        "      elif(op == 7):\n",
        "          try:\n",
        "            des= int(input(\"Seguro que deseas eliminar? \\n1.-Si\\n2.-No\\n\"))\n",
        "          except ValueError:\n",
        "            print(\"Error, seleccione una opcion correcta\")\n",
        "          else:\n",
        "            if des==1:\n",
        "              registros = borrarlista(registros)\n",
        "              registros = []\n",
        "\n",
        "\n",
        "    input(\"Presione la tecla ENTER para continuar \")\n",
        "    clear_output()\n"
      ],
      "metadata": {
        "colab": {
          "base_uri": "https://localhost:8080/",
          "height": 0
        },
        "id": "bDW9ixvrjsZc",
        "outputId": "23aaf122-e97a-4a6c-f119-d533b4a70db1"
      },
      "execution_count": 129,
      "outputs": [
        {
          "name": "stdout",
          "output_type": "stream",
          "text": [
            "      MENU     \n",
            "1. - Agregar (automatico)\n",
            "2. - Agregar (manual)\n",
            "3. - Imprimir\n",
            "4. - Buscar ID \n",
            "5. - Ordenar\n",
            "6. - Eliminar ID\n",
            "7. - Borrar todos los registros\n",
            "0. - Salir\n",
            "Que desea realizar: 0\n"
          ]
        }
      ]
    }
  ]
}