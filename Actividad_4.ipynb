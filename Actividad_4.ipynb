{
  "nbformat": 4,
  "nbformat_minor": 0,
  "metadata": {
    "colab": {
      "provenance": [],
      "authorship_tag": "ABX9TyNVfqAoRb694NUEl9F/kKOF",
      "include_colab_link": true
    },
    "kernelspec": {
      "name": "python3",
      "display_name": "Python 3"
    },
    "language_info": {
      "name": "python"
    }
  },
  "cells": [
    {
      "cell_type": "markdown",
      "metadata": {
        "id": "view-in-github",
        "colab_type": "text"
      },
      "source": [
        "<a href=\"https://colab.research.google.com/github/OmarRC123/Lenguaje_de_programacion-python/blob/main/Actividad_4.ipynb\" target=\"_parent\"><img src=\"https://colab.research.google.com/assets/colab-badge.svg\" alt=\"Open In Colab\"/></a>"
      ]
    },
    {
      "cell_type": "markdown",
      "source": [
        "# Actividad 4\n",
        "REALIZA LOS SIGUIENTES EJERCICIOS USANDO LA FORMA ADECUADA Y USANDO try Except NO DEBERA FALLAR EL PROGRAMA.\n"
      ],
      "metadata": {
        "id": "J2McRt1aJK8s"
      }
    },
    {
      "cell_type": "markdown",
      "source": [
        "## Ejercicio 1\n",
        "1.- Programa en python   que lea 3 calificaciones calcule el promedio del alumno y desplegar"
      ],
      "metadata": {
        "id": "Qdcp5AT9JWbd"
      }
    },
    {
      "cell_type": "code",
      "source": [
        "try:\n",
        "  calif1= int(input(\"Dame la calificacion 1: \"))\n",
        "  calif2= int(input(\"Dame la calificacion 2: \"))\n",
        "  calif3= int(input(\"Dame la calificacion 3: \"))\n",
        "\n",
        "except:\n",
        "  print(\"Que parte de numeros no entendiste?\")\n",
        "else:\n",
        "  prom= float((calif1+calif2+calif3)/3)\n",
        "  if (prom<30):\n",
        "    print(f\"Tu promedio es de {prom} y tienes que repetir\")\n",
        "  elif (prom<60):\n",
        "    print(f\"Tu promedio es de {prom} y te vas a extraordinario\")\n",
        "  elif (prom<70):\n",
        "    print(f\"Tu promedio es de {prom} y con eso es suficiente\")\n",
        "  elif (prom<80):\n",
        "    print(f\"Tu promedio es de {prom} y eres regular\")\n",
        "  elif (prom<90):\n",
        "    print(f\"Tu promedio es de {prom} bien!\")\n",
        "  elif (prom<98):\n",
        "    print(f\"Tu promedio es de {prom} muy bien!!!!\")\n",
        "  elif (prom<=100):\n",
        "    print(f\"Tu promedio es de {prom} excelente!!!!\")\n",
        "  else:\n",
        "    print(\"Error en el promedio\")"
      ],
      "metadata": {
        "colab": {
          "base_uri": "https://localhost:8080/"
        },
        "id": "Z7BWPwFXJifk",
        "outputId": "d68d1e32-db67-4bfe-aa08-b9934c7147d0"
      },
      "execution_count": null,
      "outputs": [
        {
          "output_type": "stream",
          "name": "stdout",
          "text": [
            "Dame la calificacion 1: a\n",
            "Que parte de numeros no entendiste?\n"
          ]
        }
      ]
    },
    {
      "cell_type": "markdown",
      "source": [
        "## Ejercicio 2\n"
      ],
      "metadata": {
        "id": "6PXBGrz1OoL3"
      }
    },
    {
      "cell_type": "code",
      "source": [
        "try:\n",
        "  sueldoxhora= float(input(\"Cual es tu sueldo por hora: \"))\n",
        "  horastrabajadas= int(input(\"Cuantas horas trabajaste: \"))\n",
        "except:\n",
        "  print(\"Error\")\n",
        "else:\n",
        "  if (horastrabajadas<=40):\n",
        "    sueldotot= sueldoxhora*horastrabajadas\n",
        "    print(f\"Tu sueldo es por hora es {sueldoxhora}, trabajaste {horastrabajadas} horas, no tienes sueldo extra y el sueldo total es {sueldotot}\")\n",
        "  elif (horastrabajadas<=49):\n",
        "    horasextra= horastrabajadas-40\n",
        "    sueldoex= horasextra*sueldoxhora\n",
        "    sueldonor= sueldoxhora*horastrabajadas\n",
        "    sueldotot= (sueldoxhora*horastrabajadas)+(horasextra*sueldoxhora)\n",
        "    print(f\"Tu sueldo es por hora es {sueldoxhora}, trabajaste {horastrabajadas} horas, el sueldo normal es {sueldonor}, tu sueldo extra es {sueldoex} y el sueldo total es {sueldotot}\")\n",
        "  else:\n",
        "    horasextra= horastrabajadas-40\n",
        "    sueldoex= (2*(horasextra*sueldoxhora))\n",
        "    sueldonor= sueldoxhora*horastrabajadas\n",
        "    sueldotot= (sueldoxhora*horastrabajadas)+(2*(horasextra*sueldoxhora))\n",
        "    print(f\"Tu sueldo es por hora es {sueldoxhora}, trabajaste {horastrabajadas} horas, el sueldo normal es {sueldonor}, tu sueldo extra es {sueldoex} y el sueldo total es {sueldotot}\")"
      ],
      "metadata": {
        "colab": {
          "base_uri": "https://localhost:8080/"
        },
        "id": "L6KPaf3fOro_",
        "outputId": "2676464a-4660-485e-8bab-85d46b44ed50"
      },
      "execution_count": null,
      "outputs": [
        {
          "output_type": "stream",
          "name": "stdout",
          "text": [
            "Cual es tu sueldo por hora: a\n",
            "Error\n"
          ]
        }
      ]
    },
    {
      "cell_type": "markdown",
      "source": [
        "## Ejercicio 3\n",
        "Programa en Python que sirva para calcular el Total a pagar por consumo de agua, donde el dato de entrada son los M3 de agua consumidos, Tomar en cuenta que se cobra escalonada"
      ],
      "metadata": {
        "id": "iM0JTMRnQtr1"
      }
    },
    {
      "cell_type": "code",
      "source": [
        "try:\n",
        "  metros = float(input(\"Cuantos metros cubicos de agua consumio?  \"))\n",
        "except:\n",
        "  print(\"Error en la captura de los metros\")\n",
        "else:\n",
        "  if metros <= 4:\n",
        "    costo = 50\n",
        "  elif metros <= 15:\n",
        "    costo = metros * 8\n",
        "  elif metros <= 50:\n",
        "    costo = metros * 10\n",
        "  elif metros >= 51:\n",
        "    costo = metros * 11\n",
        "\n",
        "  subtotal = costo/1.16\n",
        "  iva = costo-subtotal\n",
        "  total = subtotal + iva\n",
        "  print(f\"El subtotal es de: {subtotal}\")\n",
        "  print(f\"El iva es de: {iva}\")\n",
        "  print(f\"El total a pagar es de: {total}\")"
      ],
      "metadata": {
        "id": "o5YkNhBHQvhE",
        "colab": {
          "base_uri": "https://localhost:8080/"
        },
        "outputId": "5ec97c17-e4f1-4086-b1a1-e2bdb338ffc0"
      },
      "execution_count": null,
      "outputs": [
        {
          "output_type": "stream",
          "name": "stdout",
          "text": [
            "Cuantos metros cubicos de agua consumio?  a\n",
            "Error en la captura de los metros\n"
          ]
        }
      ]
    },
    {
      "cell_type": "code",
      "source": [],
      "metadata": {
        "id": "Op6mSadK1Hda"
      },
      "execution_count": null,
      "outputs": []
    },
    {
      "cell_type": "markdown",
      "source": [
        "##Ejercicio 4\n",
        "4- En la materia de Metodología de la programación se aplican 5 exámenes, calcular el promedio final de la materia donde la calificación menor de los exámenes se anula y el promedio se calcula en base a 4 exámenes.\n",
        "\n",
        "Desplegar el promedio final. y cual es la mas baja que se elimino."
      ],
      "metadata": {
        "id": "m2O3uwIiypHh"
      }
    },
    {
      "cell_type": "code",
      "source": [
        "try:\n",
        "  calif1=float(input(\"Cual es la calificacion  1: \"))\n",
        "  calif2=float(input(\"Cual es la calificacion  2: \"))\n",
        "  calif3=float(input(\"Cual es la calificacion  3: \"))\n",
        "  calif4=float(input(\"Cual es la calificacion  4: \"))\n",
        "  calif5=float(input(\"Cual es la calificacion  5: \"))\n",
        "except:\n",
        "  print(\"Error en la captura, deben de ser numeros\")\n",
        "else:\n",
        "  if(calif1 < calif2):\n",
        "      if(calif1 < calif3):\n",
        "          if(calif1 < calif4):\n",
        "              if(calif1 < calif5):\n",
        "                  promedio = (calif2 + calif3 + calif4 + calif5)/4\n",
        "                  menor= calif1\n",
        "  if(calif2 < calif1):\n",
        "      if(calif2 < calif3):\n",
        "         if(calif2 < calif4):\n",
        "              if(calif2 < calif5):\n",
        "                 promedio = (calif1 + calif3 + calif4 + calif5)/4\n",
        "                 menor= calif2\n",
        "  if(calif3 < calif1):\n",
        "      if(calif3 < calif2):\n",
        "         if(calif3 < calif4):\n",
        "             if(calif3 < calif5):\n",
        "                  promedio = (calif1 + calif2 + calif4 + calif5)/4\n",
        "                  menor= calif3\n",
        "  if(calif4 < calif1):\n",
        "      if(calif4 < calif2):\n",
        "         if(calif4 < calif3):\n",
        "             if(calif4 < calif5):\n",
        "                  promedio = (calif1 + calif2 + calif3 + calif5)/4\n",
        "                  menor= calif4\n",
        "  if(calif5 < calif1):\n",
        "     if(calif5 < calif2):\n",
        "         if(calif5 < calif3):\n",
        "              if(calif5 < calif4):\n",
        "                  promedio = (calif1 + calif2 + calif3 + calif4)/4\n",
        "                  menor= calif5\n",
        "  print(f\"El promedio es {promedio} y la calificacion que se elimino fue {menor}\")"
      ],
      "metadata": {
        "colab": {
          "base_uri": "https://localhost:8080/"
        },
        "id": "dHOGvZWyypei",
        "outputId": "ff13914c-902e-4a2f-8ce4-5bd0e46890a1"
      },
      "execution_count": null,
      "outputs": [
        {
          "output_type": "stream",
          "name": "stdout",
          "text": [
            "Cual es la calificacion  1: asd\n",
            "Error en la captura, deben de ser numeros\n"
          ]
        }
      ]
    },
    {
      "cell_type": "markdown",
      "source": [
        "##Ejercicio 5\n",
        "5.- Programa en Python que sirva para el juego del CHINCHAMPU (Piedra, Papel, Tijera) para 1 jugador y la computadora\n",
        "\n"
      ],
      "metadata": {
        "id": "QAsZ2V0b1JMp"
      }
    },
    {
      "cell_type": "code",
      "source": [
        "import random\n",
        "try:\n",
        "  escoger= int(input(\"Escoge 1 para piedra, 2 para papel o 3 para tijera: \"))\n",
        "except:\n",
        "  print(\"Error\")\n",
        "else:\n",
        "  if (escoger ==1):\n",
        "      compu= (random.randrange(1, 3, 1))\n",
        "      if (compu==1):\n",
        "        print (\"Escogiste piedra y la maquina tambien, esto es un empate\")\n",
        "      elif (compu==2):\n",
        "        print (\"Escogiste piedra y la maquina papel, gana la computadora\")\n",
        "      elif (compu==3):\n",
        "        print (\"Escogiste piedra y la maquina tijera, tu ganas!!!\")\n",
        "  elif (escoger ==2):\n",
        "      compu= (random.randrange(1, 3, 1))\n",
        "      if (compu==1):\n",
        "        print (\"Escogiste papel y la maquina piedra, tu ganas!!!\")\n",
        "      elif (compu==2):\n",
        "        print (\"Escogiste papel y la maquina papel, esto es un empate\")\n",
        "      elif (compu==3):\n",
        "        print (\"Escogiste papel y la maquina tijera, gana la computadora\")\n",
        "  elif (escoger ==3):\n",
        "      compu= (random.randrange(1, 3, 1))\n",
        "      if (compu==1):\n",
        "        print (\"Escogiste tijera y la maquina piedra, gana la computadora\")\n",
        "      elif (compu==2):\n",
        "        print (\"Escogiste tijera y la maquina papel, tu ganas!!!\")\n",
        "      elif (compu==3):\n",
        "        print (\"Escogiste tijera y la maquina tijera, esto es un empate\")\n",
        "  else:\n",
        "    print(\"Error con tu eleccion, intenta de nuevo\")\n"
      ],
      "metadata": {
        "colab": {
          "base_uri": "https://localhost:8080/"
        },
        "id": "WcJU04jK1mMD",
        "outputId": "df3490d3-11d2-4f15-a580-1a9b5a611e06"
      },
      "execution_count": null,
      "outputs": [
        {
          "output_type": "stream",
          "name": "stdout",
          "text": [
            "Escoge 1 para piedra, 2 para papel o 3 para tijera: 1\n",
            "Escogiste piedra y la maquina tambien, esto es un empate\n"
          ]
        }
      ]
    },
    {
      "cell_type": "markdown",
      "source": [
        "##Ejercicio 6\n",
        "6.- Programa en Python que lea 4 números enteros desplegar cual es el menor, cual es mayor"
      ],
      "metadata": {
        "id": "wqA6A0Sq_BFs"
      }
    },
    {
      "cell_type": "code",
      "source": [
        "try:\n",
        "  n1 = int(input (\"Ingrese el primer numero: \" ))\n",
        "  n2 = int(input (\"Ingrese el segundo numero:\" ))\n",
        "  n3 = int(input (\"Ingrese el tercer numero: \"))\n",
        "  n4 = int(input (\"Ingrese el cuarto numero: \" ))\n",
        "except ValueError:\n",
        "  print (\"Tenian QUE SER NUMEROS\")\n",
        "else:\n",
        "  menor = n1\n",
        "  if menor > n2:\n",
        "    menor = n2\n",
        "  if menor > n3:\n",
        "    menor = n3\n",
        "  if menor > n4:\n",
        "    menor = n4\n",
        "  print (f\"El menor es: {menor}\")\n",
        "  mayor = n4\n",
        "  if mayor < n1:\n",
        "    mayor = n1\n",
        "  if mayor < n2:\n",
        "    mayor = n2\n",
        "  if mayor < n3:\n",
        "    mayor = n3\n",
        "  print (f\"El mayor es: {mayor}\")\n"
      ],
      "metadata": {
        "colab": {
          "base_uri": "https://localhost:8080/"
        },
        "id": "0tjg-OOL_VlA",
        "outputId": "ba290871-e821-40b1-9de9-887c6a3c3be5"
      },
      "execution_count": null,
      "outputs": [
        {
          "output_type": "stream",
          "name": "stdout",
          "text": [
            "Ingrese el primer numero: 2\n",
            "Ingrese el segundo numero:4\n",
            "Ingrese el tercer numero: 1\n",
            "Ingrese el cuarto numero: 5\n",
            "El menor es: 1\n",
            "El mayor es: 5\n"
          ]
        }
      ]
    },
    {
      "cell_type": "markdown",
      "source": [
        "##Ejercicio 7\n",
        "7.- Programa en Python que sirva para calcular el área de un triangulo, los datos de entrada deben ser forzosamente de tipo real"
      ],
      "metadata": {
        "id": "uUExlfIZq_te"
      }
    },
    {
      "cell_type": "code",
      "source": [
        "\n",
        "try:\n",
        "  base = float (input (\"ingrese la base: \"))\n",
        "  altura = float (input (\"ingrese la altura: \"))\n",
        "except ValueError:\n",
        "  print( \"Ingresa numeros\")\n",
        "except:\n",
        "  print(\"No es flotante\")\n",
        "else:\n",
        "  area = (base * altura)/2\n",
        "  print (f\"El area es de {area}\")"
      ],
      "metadata": {
        "colab": {
          "base_uri": "https://localhost:8080/"
        },
        "id": "-ZSgDk28rCxX",
        "outputId": "52aec01e-2647-4765-c016-4df756186c7d"
      },
      "execution_count": null,
      "outputs": [
        {
          "output_type": "stream",
          "name": "stdout",
          "text": [
            "ingrese la base: 2.5\n",
            "ingrese la altura: 2.3\n",
            "El area es de 2.875\n"
          ]
        }
      ]
    },
    {
      "cell_type": "markdown",
      "source": [
        "##Ejercicio 8\n",
        "8.- Programa en Python que sirva para calcular el área de un circulo"
      ],
      "metadata": {
        "id": "S1CeWzw4rwqo"
      }
    },
    {
      "cell_type": "code",
      "source": [
        "import math\n",
        "\n",
        "try:\n",
        "  radio = float (input (\"ingrese el radio: \"))\n",
        "  if radio <= 0:\n",
        "    raise ValueError (\"NO hay radio menores iguales que 0\")\n",
        "except ValueError as e:\n",
        "  print (\"ERROR:\")\n",
        "else:\n",
        "  area = (math.pi * (radio**2))\n",
        "  print (f\"El area es de {area}\")"
      ],
      "metadata": {
        "colab": {
          "base_uri": "https://localhost:8080/"
        },
        "id": "-PjlJ1qbr0ov",
        "outputId": "83cb4444-1e24-43b9-d3cf-651299f16f60"
      },
      "execution_count": null,
      "outputs": [
        {
          "output_type": "stream",
          "name": "stdout",
          "text": [
            "ingrese el radio: 3\n",
            "El area es de 28.274333882308138\n"
          ]
        }
      ]
    }
  ]
}