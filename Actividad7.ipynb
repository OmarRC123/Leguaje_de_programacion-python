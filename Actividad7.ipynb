{
  "nbformat": 4,
  "nbformat_minor": 0,
  "metadata": {
    "colab": {
      "provenance": [],
      "include_colab_link": true
    },
    "kernelspec": {
      "name": "python3",
      "display_name": "Python 3"
    },
    "language_info": {
      "name": "python"
    }
  },
  "cells": [
    {
      "cell_type": "markdown",
      "metadata": {
        "id": "view-in-github",
        "colab_type": "text"
      },
      "source": [
        "<a href=\"https://colab.research.google.com/github/OmarRC123/Lenguaje_de_programacion-python/blob/main/Actividad7.ipynb\" target=\"_parent\"><img src=\"https://colab.research.google.com/assets/colab-badge.svg\" alt=\"Open In Colab\"/></a>"
      ]
    },
    {
      "cell_type": "markdown",
      "source": [
        "# Actividad 7\n",
        "Robles Carrasco Omar\n",
        "\n",
        "372304\n",
        "\n",
        "04/10/2023\n",
        "\n",
        "\n"
      ],
      "metadata": {
        "id": "iT16kc2j59tv"
      }
    },
    {
      "cell_type": "markdown",
      "source": [
        "## Librerias"
      ],
      "metadata": {
        "id": "rvAFDjAS5_OB"
      }
    },
    {
      "cell_type": "code",
      "source": [
        "import random"
      ],
      "metadata": {
        "id": "_08oofcJ6462"
      },
      "execution_count": 1,
      "outputs": []
    },
    {
      "cell_type": "markdown",
      "source": [
        "\n",
        "1.- Función que utilice una lista con los nombres de tus mascotas, o artistas favoritos, (minimo 5, maximo 10) imprimir las cadenas y la cantidad de caracteres de cada cadena.  "
      ],
      "metadata": {
        "id": "RmkJwuF45_jC"
      }
    },
    {
      "cell_type": "code",
      "execution_count": 31,
      "metadata": {
        "id": "Xu6tGUqqwPHE"
      },
      "outputs": [],
      "source": [
        "\n",
        "def nomfav():\n",
        "    try:\n",
        "        cant = int(input(\"Cuantos nombres quieres leer? \"))\n",
        "        if cant < 5 or cant > 10:\n",
        "            raise ValueError(\"Fuera del rango\")\n",
        "    except ValueError as e:\n",
        "        print(\"Hubo un error: \",e)\n",
        "    except:\n",
        "        print(\"Errror\")\n",
        "    else:\n",
        "        lista = []\n",
        "        for i in range(cant):\n",
        "            nom = input(\"Ingrese el nombre: \")\n",
        "            lista.append(nom)\n",
        "\n",
        "        for i, elemento in enumerate(lista):\n",
        "            caract = len(elemento)\n",
        "            print(f\"{i} -->{elemento} tiene: {caract} caracteres\")"
      ]
    },
    {
      "cell_type": "code",
      "source": [
        "nomfav()"
      ],
      "metadata": {
        "colab": {
          "base_uri": "https://localhost:8080/",
          "height": 0
        },
        "id": "rmxKZgaZ3ZoG",
        "outputId": "948f1d38-3b30-471f-d10c-d1cbfc5e2583"
      },
      "execution_count": 32,
      "outputs": [
        {
          "output_type": "stream",
          "name": "stdout",
          "text": [
            "Cuantos nombres quieres leer? 5\n",
            "Ingrese el nombre: virlan\n",
            "Ingrese el nombre: coco\n",
            "Ingrese el nombre: firulais\n",
            "Ingrese el nombre: abraham vazquez\n",
            "Ingrese el nombre: qtip\n",
            "0 -->virlan tiene: 6 caracteres\n",
            "1 -->coco tiene: 4 caracteres\n",
            "2 -->firulais tiene: 8 caracteres\n",
            "3 -->abraham vazquez tiene: 15 caracteres\n",
            "4 -->qtip tiene: 4 caracteres\n"
          ]
        }
      ]
    },
    {
      "cell_type": "markdown",
      "source": [
        "2.- Programa que utilice 2 funciones,\n",
        "\n",
        "Función que genere y regrese una lista con 10 números aleatorios entre el 30 y 50 (no repetidos).\n",
        "Función que reciba una lista , Imprimir la lista (Indice y Valor )"
      ],
      "metadata": {
        "id": "JKKlm1tV5_Xa"
      }
    },
    {
      "cell_type": "code",
      "source": [
        "def aleato():\n",
        "    try:\n",
        "        aleatorios = []\n",
        "        while len(aleatorios) < 10:\n",
        "            numero = random.randint(30, 50)\n",
        "            if numero not in aleatorios:\n",
        "              aleatorios.append(numero)\n",
        "    except:\n",
        "        print(\"Error\")\n",
        "    else:\n",
        "        return aleatorios"
      ],
      "metadata": {
        "id": "8B3nkldm56W6"
      },
      "execution_count": 27,
      "outputs": []
    },
    {
      "cell_type": "code",
      "source": [
        "def imprimir(lista):\n",
        "    try:\n",
        "        for i in range(10):\n",
        "            pos = isinstance(lista[i],int)\n",
        "            if pos is False:\n",
        "                break\n",
        "    except:\n",
        "        print(\"Error\")\n",
        "    else:\n",
        "        for i, ele in enumerate(lista):\n",
        "            print(f\"{i} --->{ele}\")"
      ],
      "metadata": {
        "id": "9FU6lMv1DFIk"
      },
      "execution_count": 28,
      "outputs": []
    },
    {
      "cell_type": "code",
      "source": [
        "pos = aleato()\n",
        "imprimir(pos)"
      ],
      "metadata": {
        "id": "p_cDvJ7I7p-R",
        "outputId": "c950cbf3-a16a-4f2a-d847-937b1be4cf59",
        "colab": {
          "base_uri": "https://localhost:8080/",
          "height": 0
        }
      },
      "execution_count": 29,
      "outputs": [
        {
          "output_type": "stream",
          "name": "stdout",
          "text": [
            "0 --->46\n",
            "1 --->35\n",
            "2 --->43\n",
            "3 --->50\n",
            "4 --->36\n",
            "5 --->49\n",
            "6 --->38\n",
            "7 --->33\n",
            "8 --->32\n",
            "9 --->45\n"
          ]
        }
      ]
    },
    {
      "cell_type": "markdown",
      "source": [
        "3.- Escribe una función que reciba dos listas de números del mismo tamaño y calcule la suma de los elementos correspondientes de cada lista."
      ],
      "metadata": {
        "id": "Puu4QMxYGQeV"
      }
    },
    {
      "cell_type": "code",
      "source": [
        "def suma_lis(lista1, lista2):\n",
        "    try:\n",
        "        a = len(lista1)\n",
        "        b = len(lista2)\n",
        "        if a != b:\n",
        "\n",
        "            print(\"Los tamañosd de las listas son diferentes, se va a usar valor mas pequeño\")\n",
        "\n",
        "            raise ValueError(\"Error: \")\n",
        "    except ValueError as e:\n",
        "        print(\"tamaños diferentes\",e)\n",
        "\n",
        "    else:\n",
        "        lista3 = []\n",
        "        for i in range(len(lista1)):\n",
        "            lista3.append(lista1[i] + lista2[i])\n",
        "        return lista3"
      ],
      "metadata": {
        "id": "-ePx2FvoGVUs"
      },
      "execution_count": 24,
      "outputs": []
    },
    {
      "cell_type": "code",
      "source": [
        "lista1 = [17,7,35,43]\n",
        "lista2 = [21,12,51,2]\n",
        "print(suma_lis(lista1,lista2))\n"
      ],
      "metadata": {
        "colab": {
          "base_uri": "https://localhost:8080/",
          "height": 0
        },
        "id": "_cUt_N86HQ0f",
        "outputId": "8dbe20b0-4549-4e5e-8bcb-f276ad716f4b"
      },
      "execution_count": 26,
      "outputs": [
        {
          "output_type": "stream",
          "name": "stdout",
          "text": [
            "[38, 19, 86, 45]\n"
          ]
        }
      ]
    },
    {
      "cell_type": "markdown",
      "source": [
        "4.- Escribe una función llamada eliminar_duplicados que reciba una lista como parámetro y elimine los elementos duplicados"
      ],
      "metadata": {
        "id": "ruG0zMlVChL7"
      }
    },
    {
      "cell_type": "code",
      "source": [
        "def validar(lista):\n",
        "    long = len(lista)\n",
        "    for i in range(long):\n",
        "        x = isinstance(lista[i],int)\n",
        "        if x is True:\n",
        "            print(\" \",end='')\n",
        "        else:\n",
        "            print(f\"Solo tienen que ser enteros, el elemento {i+1} no es entero\")\n",
        "            return False\n",
        "            break\n",
        "    else:\n",
        "        return True"
      ],
      "metadata": {
        "id": "t_IghdsZJVd1"
      },
      "execution_count": 5,
      "outputs": []
    },
    {
      "cell_type": "code",
      "source": [
        "def eliminar_duplicados(lista):\n",
        "    try:\n",
        "        x = validar(lista)\n",
        "        if x is False:\n",
        "            raise Exception(\"error\")\n",
        "    except Exception as e:\n",
        "        print(\"La lista: \",e)\n",
        "    else:\n",
        "        nueva_lista = []\n",
        "        for ele in lista:\n",
        "            if ele not in nueva_lista:\n",
        "                nueva_lista.append(ele)\n",
        "        print(nueva_lista)\n"
      ],
      "metadata": {
        "id": "2ClYM77IClW6"
      },
      "execution_count": 6,
      "outputs": []
    },
    {
      "cell_type": "code",
      "source": [
        "lista = [5,6,32,32,45,52]\n",
        "eliminar_duplicados(lista)"
      ],
      "metadata": {
        "id": "sRwp5xqXEMe6",
        "colab": {
          "base_uri": "https://localhost:8080/",
          "height": 0
        },
        "outputId": "87916b07-ec5a-48c4-8768-02eba1d16f40"
      },
      "execution_count": 9,
      "outputs": [
        {
          "output_type": "stream",
          "name": "stdout",
          "text": [
            "      [5, 6, 32, 45, 52]\n"
          ]
        }
      ]
    },
    {
      "cell_type": "markdown",
      "source": [
        "5.- Escribe una función que calcule la media y la mediana de una lista de números enteros."
      ],
      "metadata": {
        "id": "imwEZxrJLeqh"
      }
    },
    {
      "cell_type": "code",
      "source": [
        "def media_mediana(lista):\n",
        "    try:\n",
        "        x = validar(lista)\n",
        "        if x is False:\n",
        "            raise Exception(\"fallo la lista\")\n",
        "    except Exception as e:\n",
        "        print(\"Error: \",e)\n",
        "    else:\n",
        "        media = 0\n",
        "        long = len(lista)\n",
        "        for i in range(long):\n",
        "            media += lista[i]\n",
        "        print(f\"La media es de {media/long}\")\n",
        "\n",
        "        lista.sort\n",
        "        mitad = long // 2\n",
        "        ultimo = mitad\n",
        "        if len(lista) % 2 != 0:\n",
        "            print(f\"La mediana es de {lista[ultimo]}\")\n",
        "        else:\n",
        "            penultimo = ultimo - 1\n",
        "            print(f\"La mediana es de {(lista[ultimo] + lista[penultimo])/2}\")\n",
        "\n"
      ],
      "metadata": {
        "id": "HsD8UWDkL4g9"
      },
      "execution_count": 21,
      "outputs": []
    },
    {
      "cell_type": "code",
      "source": [
        "lista = [15,77,63,7,8]\n",
        "media_mediana(lista)"
      ],
      "metadata": {
        "colab": {
          "base_uri": "https://localhost:8080/",
          "height": 0
        },
        "id": "onfWQ9vKB4Bn",
        "outputId": "292776e6-b086-49de-9e34-c9fb5f715ec2"
      },
      "execution_count": 23,
      "outputs": [
        {
          "output_type": "stream",
          "name": "stdout",
          "text": [
            "     La media es de 34.0\n",
            "La mediana es de 63\n"
          ]
        }
      ]
    }
  ]
}