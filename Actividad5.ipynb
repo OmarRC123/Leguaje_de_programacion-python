{
  "nbformat": 4,
  "nbformat_minor": 0,
  "metadata": {
    "colab": {
      "provenance": [],
      "include_colab_link": true
    },
    "kernelspec": {
      "name": "python3",
      "display_name": "Python 3"
    },
    "language_info": {
      "name": "python"
    }
  },
  "cells": [
    {
      "cell_type": "markdown",
      "metadata": {
        "id": "view-in-github",
        "colab_type": "text"
      },
      "source": [
        "<a href=\"https://colab.research.google.com/github/OmarRC123/Lenguaje_de_programacion-python/blob/main/Actividad5.ipynb\" target=\"_parent\"><img src=\"https://colab.research.google.com/assets/colab-badge.svg\" alt=\"Open In Colab\"/></a>"
      ]
    },
    {
      "cell_type": "markdown",
      "source": [
        "#Actividad 5\n",
        "\n",
        "Nombre: Omar Robles Carrasco     Matricula: 372304\n",
        "\n",
        "Grupo: 432\n",
        "\n",
        "Fecha:19/09/2023"
      ],
      "metadata": {
        "id": "eMJl4vGUPQxx"
      }
    },
    {
      "cell_type": "markdown",
      "source": [
        "# PARTE 1"
      ],
      "metadata": {
        "id": "iB_tJlo7WlTj"
      }
    },
    {
      "cell_type": "markdown",
      "source": [
        "\n",
        "1.- Programa en Python que genere 40 números aleatorios entre el 0 y 200, desplegar los números y la leyenda de cada número si es par o impar , la cantidad de los números pares e impares así como la suma de los números pares o impares."
      ],
      "metadata": {
        "id": "ZwVD77BIPSi5"
      }
    },
    {
      "cell_type": "code",
      "execution_count": null,
      "metadata": {
        "id": "YgbBBWKHICVI",
        "colab": {
          "base_uri": "https://localhost:8080/"
        },
        "outputId": "29a3c669-9c11-466a-ad63-9f122a8139eb"
      },
      "outputs": [
        {
          "output_type": "stream",
          "name": "stdout",
          "text": [
            "El numero 146 es par\n",
            "El numero 191 es impar\n",
            "El numero 140 es par\n",
            "El numero 96 es par\n",
            "El numero 64 es par\n",
            "El numero 71 es impar\n",
            "El numero 164 es par\n",
            "El numero 138 es par\n",
            "El numero 58 es par\n",
            "El numero 149 es impar\n",
            "El numero 122 es par\n",
            "El numero 78 es par\n",
            "El numero 105 es impar\n",
            "El numero 4 es par\n",
            "El numero 153 es impar\n",
            "El numero 11 es impar\n",
            "El numero 30 es par\n",
            "El numero 190 es par\n",
            "El numero 129 es impar\n",
            "El numero 35 es impar\n",
            "El numero 97 es impar\n",
            "El numero 125 es impar\n",
            "El numero 135 es impar\n",
            "El numero 39 es impar\n",
            "El numero 1 es impar\n",
            "El numero 47 es impar\n",
            "El numero 130 es par\n",
            "El numero 101 es impar\n",
            "El numero 86 es par\n",
            "El numero 51 es impar\n",
            "El numero 130 es par\n",
            "El numero 56 es par\n",
            "El numero 12 es par\n",
            "El numero 162 es par\n",
            "El numero 136 es par\n",
            "El numero 167 es impar\n",
            "El numero 179 es impar\n",
            "El numero 171 es impar\n",
            "El numero 10 es par\n",
            "El numero 160 es par\n",
            "Correctamente\n"
          ]
        }
      ],
      "source": [
        "import random\n",
        "try:\n",
        "    for i in range(40):\n",
        "        num = random.randint(0,200)\n",
        "        if num%2 == 0:\n",
        "            print(f\"El numero {num} es par\")\n",
        "        else:\n",
        "            print(f\"El numero {num} es impar\")\n",
        "except:\n",
        "    print(\"Error\")\n",
        "else:\n",
        "    print(\"Correctamente\")\n",
        "\n",
        "\n"
      ]
    },
    {
      "cell_type": "markdown",
      "source": [
        "2.- Programa en Python que despliegue la tabla de multiplicar de un número dado (número entre el 1 y 20).\n",
        "\n",
        "Tabla del 5\n",
        "\n",
        "5 * 1 = 5\n",
        "\n",
        "5* 2 = 10\n",
        "\n",
        ".\n",
        "\n",
        ".\n",
        "\n",
        ".\n",
        "\n",
        "5*10=50"
      ],
      "metadata": {
        "id": "7ySOzxqgPTaZ"
      }
    },
    {
      "cell_type": "code",
      "source": [
        "try:\n",
        "    tabla = int(input(\"Que tabla quieres que te muestre: \"))\n",
        "except:\n",
        "    print(\"Error\")\n",
        "else:\n",
        "    for i in range(1,11):\n",
        "        print(f\"{tabla} * {i} = \", end=\" \")\n",
        "        print(tabla * i)\n"
      ],
      "metadata": {
        "id": "oCFrJvKaKFUS",
        "colab": {
          "base_uri": "https://localhost:8080/"
        },
        "outputId": "92b1b3d6-742e-4d5a-fee5-0cfda34cf87e"
      },
      "execution_count": null,
      "outputs": [
        {
          "output_type": "stream",
          "name": "stdout",
          "text": [
            "Que tabla quieres que te muestre: 2\n",
            "2 * 1 =  2\n",
            "2 * 2 =  4\n",
            "2 * 3 =  6\n",
            "2 * 4 =  8\n",
            "2 * 5 =  10\n",
            "2 * 6 =  12\n",
            "2 * 7 =  14\n",
            "2 * 8 =  16\n",
            "2 * 9 =  18\n",
            "2 * 10 =  20\n"
          ]
        }
      ]
    },
    {
      "cell_type": "markdown",
      "source": [
        "3.- Programa en Python que lea una calificación, las calificación deberá estar en el rango de 0 a 100, si hay un error de captura, mostrar mensaje de error. con la calificación correcta mostrar msg de aprobado reprobado."
      ],
      "metadata": {
        "id": "jHDavzC2Rpxf"
      }
    },
    {
      "cell_type": "code",
      "source": [
        "try:\n",
        "    cali = float(input(\"Ingrese la calificacion \"))\n",
        "    if cali<0 or cali>100:\n",
        "        raise ValueError(\"en la captura\")\n",
        "except ValueError as e:\n",
        "     print(\"error: \",e)\n",
        "else:\n",
        "    print(\"Se capturo correctamente\")\n",
        "    if cali > 60:\n",
        "        print(\"Aprobado\")\n",
        "    else:\n",
        "        print(\"Reprobado\")\n",
        "\n"
      ],
      "metadata": {
        "colab": {
          "base_uri": "https://localhost:8080/"
        },
        "id": "qiHyrCFePPub",
        "outputId": "fc60720f-bf27-499c-e3f7-1d59486e3a85"
      },
      "execution_count": null,
      "outputs": [
        {
          "output_type": "stream",
          "name": "stdout",
          "text": [
            "Ingrese la calificacion 100\n",
            "Se capturo correctamente\n",
            "Aprobado\n"
          ]
        }
      ]
    },
    {
      "cell_type": "markdown",
      "source": [
        "4.- Programa en Python que lea n cantidad de números enteros dentro de un rango dado (> 0 ) , el programa deberá terminar cuando el usuario introduzca el número cero.\n",
        "\n",
        "desplegar la suma de números y la media."
      ],
      "metadata": {
        "id": "hf99kgGjTwiU"
      }
    },
    {
      "cell_type": "code",
      "source": [
        "final = int(input(\"Ingrese hasta que numero quieres llegar: \"))\n",
        "try:\n",
        "    suma = 0\n",
        "    for i in range(final):\n",
        "        num = int(input(\"Ingrese el numero: \"))\n",
        "        suma = suma + num\n",
        "        if num == 0:\n",
        "            raise ValueError(\"Se acabo\")\n",
        "\n",
        "\n",
        "except ValueError as e:\n",
        "    print(e)\n",
        "else:\n",
        "    prom = suma/final\n",
        "    print(f\"La suma es: {suma}\")\n",
        "    print(f\"La media es: {prom}\")\n",
        "\n",
        "\n"
      ],
      "metadata": {
        "colab": {
          "base_uri": "https://localhost:8080/"
        },
        "id": "ml3Muh8PTxR0",
        "outputId": "9dcf827d-f376-42c5-cd03-cee7430cf517"
      },
      "execution_count": null,
      "outputs": [
        {
          "output_type": "stream",
          "name": "stdout",
          "text": [
            "Ingrese hasta que numero quieres llegar: 2323\n",
            "Ingrese el numero: 2\n",
            "Ingrese el numero: 2\n",
            "Ingrese el numero: 3\n",
            "Ingrese el numero: 0\n",
            "Se acabo\n"
          ]
        }
      ]
    },
    {
      "cell_type": "markdown",
      "source": [
        "5.- Programa en Python que sirva para leer el promedio de una materia. donde el usuario tendrá un máximo de 3 oportunidades de cursar la materia, si el promedio es aprobado, felicitarlo y continuar el siguiente semestre, si promedio es reprobado deberá salir mensaje de repetir materia o es baja académica si ha reprobado 3 veces."
      ],
      "metadata": {
        "id": "1Q0MqEMgYrl0"
      }
    },
    {
      "cell_type": "code",
      "source": [
        "\n",
        "try:\n",
        "    baja = 0\n",
        "    for i in range(3):\n",
        "        prom = float(input(f\"Ingrese su promedio: \"))\n",
        "        if prom > 100:\n",
        "            raise ValueError(\"No hay mas de 100, tas mal\")\n",
        "        if prom < 60:\n",
        "            print(\"REPROBADO\")\n",
        "            baja = baja + 1\n",
        "            if baja == 3:\n",
        "                print(\"ESTAS DADO DE BAJA DEFINITIVA\")\n",
        "                break\n",
        "        else:\n",
        "            break\n",
        "except ValueError as e:\n",
        "    print(\"Erro: \",e)\n",
        "else:\n",
        "    print(\"APROBASTE\")"
      ],
      "metadata": {
        "id": "6fuB61NZYr40",
        "colab": {
          "base_uri": "https://localhost:8080/"
        },
        "outputId": "c86ea4c8-2117-4ebc-e29b-9dc27163edf7"
      },
      "execution_count": null,
      "outputs": [
        {
          "output_type": "stream",
          "name": "stdout",
          "text": [
            "Ingrese su promedio: 100\n",
            "APROBASTE\n"
          ]
        }
      ]
    },
    {
      "cell_type": "markdown",
      "source": [
        "# PARTE 2"
      ],
      "metadata": {
        "id": "7aES6gdqXZiX"
      }
    },
    {
      "cell_type": "markdown",
      "source": [
        "1.- función que lea n cantidad de números hasta que el usuario lo desee, desplegar la suma de los números, media y valor de los números mayores y menores.\n",
        "\n"
      ],
      "metadata": {
        "id": "hoTc5rLvXi3E"
      }
    },
    {
      "cell_type": "code",
      "source": [
        "def lee_numeros():\n",
        "    n = int(input(\"Cuantos numeros quieres leer? \"))\n",
        "    lista = [n]\n",
        "    media = 0\n",
        "    for i in range(n):\n",
        "        valor=int(input(\"Ingrese un valor entero:\"))\n",
        "        lista.append(valor)\n",
        "        media = media + valor\n",
        "    maximo = max(lista)\n",
        "    minimo = min(lista)\n",
        "    print(f\"La media es: {media/3}\")\n",
        "    print(f\"El numero maximo es: {maximo}\")\n",
        "    print(f\"El numero minimo es: {minimo}\")\n",
        "    return"
      ],
      "metadata": {
        "id": "fJ7YN2g3XfLH"
      },
      "execution_count": null,
      "outputs": []
    },
    {
      "cell_type": "markdown",
      "source": [
        "2.- función que genere 15 números impares entre 10 y 60 o máximo de 25 números. desplegar la media de los pares y media de impares."
      ],
      "metadata": {
        "id": "Q_kBZay2jBwi"
      }
    },
    {
      "cell_type": "code",
      "source": [
        "def generador():\n",
        "    try:\n",
        "        par=0\n",
        "        impar=0\n",
        "        sumpar=0\n",
        "        sumimpar=0\n",
        "        for i in range (25):\n",
        "          num1 = (random.randrange(10, 60))\n",
        "          print(num1)\n",
        "          if (num1%2 == 0):\n",
        "            par+=1\n",
        "            sumpar+= num\n",
        "          else:\n",
        "            impar+=1\n",
        "            sumimpar+= num\n",
        "          if impar==15:\n",
        "            break\n",
        "    except:\n",
        "        print(\"ERROR\")\n",
        "    else:\n",
        "        print(f\"Los numero pares fueron {par} y los impares {impar}\")\n",
        "        print(f\"La media de los numeros pares es: {sumpar/par}\")\n",
        "        print(f\"La media de los numeros impares es: {sumimpar/impar}\")\n",
        "    return\n",
        "\n"
      ],
      "metadata": {
        "id": "X-hRwdAujFWT"
      },
      "execution_count": null,
      "outputs": []
    },
    {
      "cell_type": "markdown",
      "source": [
        "3.- función que sirva para leer y validar un número dentro de un rango dado por el usuario. repetir esta acción hasta que el usuario lo desee, desplegar cantidad de números y promedio de los números.."
      ],
      "metadata": {
        "id": "mHwjxupSpTXi"
      }
    },
    {
      "cell_type": "code",
      "source": [
        "def validar():\n",
        "    a=10\n",
        "    b=5\n",
        "    try:\n",
        "        ri = int(input(\"Cual es el rango incial? \"))\n",
        "        if ri == 0:\n",
        "            raise ValueError(\"El valor inicial por ahora no puede ser cero\")\n",
        "        rf = int(input(\"Cual es el rango final? \"))\n",
        "        if rf < ri:\n",
        "            raise ValueError(\"El valor final tiene que ser mas grande\")\n",
        "    except ValueError as e:\n",
        "        print(\"Error:\",e)\n",
        "\n",
        "    else:\n",
        "        i = 0\n",
        "        j = 0\n",
        "        prom = 0\n",
        "        print(\"Si deseas detenerte ingrese el 0\")\n",
        "        while(a>b):\n",
        "            num = int(input(\"Ingresa el numero: \"))\n",
        "            if num >= ri and num<=rf:\n",
        "                prom = prom + num\n",
        "                i = i + 1\n",
        "            else:\n",
        "                print(\"Numero fuera del rango\")\n",
        "                j = j + 1\n",
        "            if num == 0:\n",
        "                break\n",
        "        print(f\"El promedio es{prom/i}\")\n",
        "        print(f\"El total de numeros es de {i + j}\")\n",
        "        print(f\"Con {j} numeros fuera del rango \")\n",
        "        print(f\"Con {i} numeros dentro del rango\")\n",
        "\n",
        "\n",
        "\n"
      ],
      "metadata": {
        "id": "9zqyYXacpUVW"
      },
      "execution_count": null,
      "outputs": []
    },
    {
      "cell_type": "markdown",
      "source": [
        "4.- función que reciba como parámetro los valores para el área de un triángulo y retorne su resultado"
      ],
      "metadata": {
        "id": "rxCAc1L9vzNz"
      }
    },
    {
      "cell_type": "code",
      "source": [
        "def area_tri(base,altura):\n",
        "    try:\n",
        "        area = (base * altura)/2\n",
        "    except:\n",
        "        print(\"No se pudo\")\n",
        "    else:\n",
        "        return area"
      ],
      "metadata": {
        "id": "jQc9Dh7n3mBY"
      },
      "execution_count": null,
      "outputs": []
    },
    {
      "cell_type": "markdown",
      "source": [
        "5.- función que sirva para validar un número dentro de un rango dado."
      ],
      "metadata": {
        "id": "hC1CK47Q5Qun"
      }
    },
    {
      "cell_type": "code",
      "source": [
        "def validacion_rango(ri,rf,n):\n",
        "    if n>=ri and n<=rf:\n",
        "        print(\"El numero dado esta en el rango\")\n",
        "    else:\n",
        "        print(\"El numero no esta en el rango\")\n"
      ],
      "metadata": {
        "id": "nHsuimY65USj"
      },
      "execution_count": null,
      "outputs": []
    },
    {
      "cell_type": "code",
      "source": [
        "lee_numeros()"
      ],
      "metadata": {
        "colab": {
          "base_uri": "https://localhost:8080/"
        },
        "id": "PVveQOqZQCNi",
        "outputId": "aaba1c7c-f705-4b5f-93ae-e8a73f43c43c"
      },
      "execution_count": null,
      "outputs": [
        {
          "output_type": "stream",
          "name": "stdout",
          "text": [
            "Cuantos numeros quieres leer? 2\n",
            "Ingrese un valor entero:2\n",
            "Ingrese un valor entero:3\n",
            "La media es: 1.6666666666666667\n",
            "El numero maximo es: 3\n",
            "El numero minimo es: 2\n"
          ]
        }
      ]
    },
    {
      "cell_type": "code",
      "source": [
        "generador()"
      ],
      "metadata": {
        "colab": {
          "base_uri": "https://localhost:8080/"
        },
        "id": "1ovZ9lUEQDf5",
        "outputId": "0f5edbc5-0312-4d77-e5da-ee3b0ac87f2b"
      },
      "execution_count": null,
      "outputs": [
        {
          "output_type": "stream",
          "name": "stdout",
          "text": [
            "14\n",
            "23\n",
            "32\n",
            "34\n",
            "51\n",
            "15\n",
            "57\n",
            "34\n",
            "35\n",
            "12\n",
            "26\n",
            "24\n",
            "30\n",
            "43\n",
            "20\n",
            "22\n",
            "26\n",
            "47\n",
            "44\n",
            "22\n",
            "16\n",
            "10\n",
            "53\n",
            "11\n",
            "58\n",
            "Los numero pares fueron 16 y los impares 9\n",
            "La media de los numeros pares es: 2.0\n",
            "La media de los numeros impares es: 2.0\n"
          ]
        }
      ]
    },
    {
      "cell_type": "code",
      "source": [
        "validar()"
      ],
      "metadata": {
        "id": "mGL3GDwUQRGI",
        "colab": {
          "base_uri": "https://localhost:8080/"
        },
        "outputId": "2e718aae-0c73-45af-8f29-6fd85e41bcb5"
      },
      "execution_count": null,
      "outputs": [
        {
          "output_type": "stream",
          "name": "stdout",
          "text": [
            "Cual es el rango incial? 2\n",
            "Cual es el rango final? 4\n",
            "Si deseas detenerte ingrese el 0\n",
            "Ingresa el numero: 23\n",
            "Numero fuera del rango\n",
            "Ingresa el numero: 3\n",
            "Ingresa el numero: 2\n",
            "Ingresa el numero: 2\n",
            "Ingresa el numero: 3\n",
            "Ingresa el numero: 4\n",
            "Ingresa el numero: 4\n",
            "Ingresa el numero: 0\n",
            "Numero fuera del rango\n",
            "El promedio es3.0\n",
            "El total de numeros es de 8\n",
            "Con 2 numeros fuera del rango \n",
            "Con 6 numeros dentro del rango\n"
          ]
        }
      ]
    },
    {
      "cell_type": "code",
      "source": [
        "base = int(input(\"Ingrese la base \"))\n",
        "altura = int(input(\"Ingrese la altura \"))\n",
        "area_tri(base,altura)"
      ],
      "metadata": {
        "colab": {
          "base_uri": "https://localhost:8080/"
        },
        "id": "gwUc4wZeQWZB",
        "outputId": "6914d6ff-9cee-4699-edd7-a49a05a731c3"
      },
      "execution_count": null,
      "outputs": [
        {
          "name": "stdout",
          "output_type": "stream",
          "text": [
            "Ingrese la base 2\n",
            "Ingrese la altura 3\n"
          ]
        },
        {
          "output_type": "execute_result",
          "data": {
            "text/plain": [
              "3.0"
            ]
          },
          "metadata": {},
          "execution_count": 23
        }
      ]
    },
    {
      "cell_type": "code",
      "source": [
        "inicio = int(input(\"Ingrese el rango incial \"))\n",
        "fin = int(input(\"Ingrese el rango final \"))\n",
        "num = int(input(\"Ingrese el numero a validar \"))\n",
        "validacion_rango(inicio,fin,num)"
      ],
      "metadata": {
        "colab": {
          "base_uri": "https://localhost:8080/"
        },
        "id": "5kn5cI8R5uTE",
        "outputId": "3c3ff2ba-51c1-4988-cf12-308b52fad1da"
      },
      "execution_count": null,
      "outputs": [
        {
          "output_type": "stream",
          "name": "stdout",
          "text": [
            "Ingrese el rango incial 1\n",
            "Ingrese el rango final 3\n",
            "Ingrese el numero a validar 2\n",
            "El numero dado esta en el rango\n"
          ]
        }
      ]
    }
  ]
}